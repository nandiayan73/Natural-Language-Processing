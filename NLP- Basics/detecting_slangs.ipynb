{
 "cells": [
  {
   "cell_type": "code",
   "execution_count": 2,
   "metadata": {},
   "outputs": [],
   "source": [
    "import spacy\n",
    "nlp=spacy.load('en_core_web_sm')"
   ]
  },
  {
   "cell_type": "code",
   "execution_count": 3,
   "metadata": {},
   "outputs": [],
   "source": [
    "from spacy.matcher import  Matcher\n",
    "matcher=Matcher(nlp.vocab)\n",
    "\n"
   ]
  },
  {
   "cell_type": "code",
   "execution_count": 16,
   "metadata": {},
   "outputs": [
    {
     "name": "stdout",
     "output_type": "stream",
     "text": [
      "fuck\n"
     ]
    }
   ],
   "source": [
    "pattern1=[{'LOWER':\"fuck\",},{'IS_PUNCT':True,'OP':'*'},{'LOWER':'ly'}]\n",
    "pattern2=[{'LOWER':\"fuck\",},{'IS_PUNCT':True,'OP':'*'},{'LOWER':'ing'}]\n",
    "\n",
    "doc=nlp(u\"I am fucking fuck depressed!\")\n",
    "matcher.add('Gali',[pattern1,pattern2])\n",
    "found_matches=matcher(nlp(u\"I am fucking fuck depressed!\"))\n",
    "for tup in found_matches:\n",
    "    print(doc[tup[1]:tup[2]])"
   ]
  }
 ],
 "metadata": {
  "kernelspec": {
   "display_name": "Python 3",
   "language": "python",
   "name": "python3"
  },
  "language_info": {
   "codemirror_mode": {
    "name": "ipython",
    "version": 3
   },
   "file_extension": ".py",
   "mimetype": "text/x-python",
   "name": "python",
   "nbconvert_exporter": "python",
   "pygments_lexer": "ipython3",
   "version": "3.11.4"
  },
  "orig_nbformat": 4
 },
 "nbformat": 4,
 "nbformat_minor": 2
}
