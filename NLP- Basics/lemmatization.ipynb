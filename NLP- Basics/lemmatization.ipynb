{
 "cells": [
  {
   "cell_type": "code",
   "execution_count": 1,
   "metadata": {},
   "outputs": [],
   "source": [
    "import spacy\n",
    "nlp = spacy.load('en_core_web_sm')\n",
    "\n"
   ]
  },
  {
   "cell_type": "code",
   "execution_count": 16,
   "metadata": {},
   "outputs": [
    {
     "name": "stdout",
     "output_type": "stream",
     "text": [
      "I  PRON\n",
      "be  AUX\n",
      "run  VERB\n",
      "and  CCONJ\n",
      "one  NUM\n",
      "day  NOUN\n",
      "I  PRON\n",
      "will  AUX\n",
      "ran  VERB\n",
      "away  ADV\n",
      "beacuse  SCONJ\n",
      "I  PRON\n",
      "be  AUX\n",
      "a  DET\n",
      "runner  NOUN\n",
      "and  CCONJ\n",
      "nigga  NOUN\n",
      "!  PUNCT\n"
     ]
    }
   ],
   "source": [
    "words=nlp(\"I am running and one day i will ran away beacuse I am a runner and nigga!\")\n",
    "# words=nlp(u\"easily\")\n",
    "for token in words:\n",
    "    print(token.lemma_+\"  \"+token.pos_)"
   ]
  }
 ],
 "metadata": {
  "kernelspec": {
   "display_name": "Python 3",
   "language": "python",
   "name": "python3"
  },
  "language_info": {
   "codemirror_mode": {
    "name": "ipython",
    "version": 3
   },
   "file_extension": ".py",
   "mimetype": "text/x-python",
   "name": "python",
   "nbconvert_exporter": "python",
   "pygments_lexer": "ipython3",
   "version": "3.11.4"
  },
  "orig_nbformat": 4
 },
 "nbformat": 4,
 "nbformat_minor": 2
}
