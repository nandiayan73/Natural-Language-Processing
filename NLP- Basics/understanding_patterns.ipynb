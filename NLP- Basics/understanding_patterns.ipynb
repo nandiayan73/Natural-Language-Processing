{
 "cells": [
  {
   "cell_type": "code",
   "execution_count": 10,
   "metadata": {},
   "outputs": [],
   "source": [
    "import spacy\n",
    "nlp=spacy.load('en_core_web_sm')"
   ]
  },
  {
   "cell_type": "code",
   "execution_count": 11,
   "metadata": {},
   "outputs": [],
   "source": [
    "doc1=nlp(u\"I am a nigga\")\n",
    "from spacy.matcher import Matcher\n",
    "matcher=Matcher(nlp.vocab)"
   ]
  },
  {
   "cell_type": "code",
   "execution_count": 15,
   "metadata": {},
   "outputs": [],
   "source": [
    "pattern1=[{'LOWER':'solarnigga'}]\n",
    "pattern2=[{'LOWER':'solar'},{'IS_PUNCT':True},{'LOWER':'nigga'}]\n",
    "pattern3=[{'LOWER':\"solar\"},{'LOWER':\"nigga\"}]\n",
    "\n",
    "matcher.add('SolarNigga',[pattern1,pattern2,pattern3])"
   ]
  },
  {
   "cell_type": "code",
   "execution_count": 19,
   "metadata": {},
   "outputs": [
    {
     "name": "stdout",
     "output_type": "stream",
     "text": [
      "[(5153313544564452107, 3, 5), (5153313544564452107, 10, 13), (5153313544564452107, 22, 23)]\n",
      "solar nigga\n",
      "solar--nigga\n",
      "solarnigga\n"
     ]
    }
   ],
   "source": [
    "doc=nlp(u\"i am a solar nigga, my friends call me solar-nigga, but its not correct beacuse i am a solarnigga\")\n",
    "found_matches=matcher(doc)\n",
    "print(found_matches)\n",
    "for tup in found_matches:\n",
    "    print(doc[tup[1]:tup[2]])"
   ]
  },
  {
   "cell_type": "code",
   "execution_count": 20,
   "metadata": {},
   "outputs": [
    {
     "name": "stdout",
     "output_type": "stream",
     "text": [
      "<spacy.vocab.Vocab object at 0x0000019B08E760E0>\n"
     ]
    }
   ],
   "source": [
    "print(nlp.vocab)"
   ]
  },
  {
   "cell_type": "markdown",
   "metadata": {},
   "source": [
    "Searching text in a text file\n"
   ]
  },
  {
   "cell_type": "code",
   "execution_count": 29,
   "metadata": {},
   "outputs": [],
   "source": [
    "with open('./reaganomics.txt') as f:\n",
    "    doc3 = nlp(f.read())\n",
    "    \n",
    "# print(doc3)"
   ]
  },
  {
   "cell_type": "code",
   "execution_count": 56,
   "metadata": {},
   "outputs": [],
   "source": [
    "# phrase_list = [{'LOWER':'voodoo economics'}, {'LOWER':'supply-side economics'},{ 'LOWER':'trickle-down economics'},{ 'LOWER':'free-market economics'}]\n",
    "phrase_list = [{'LOWER':'voodoo economics'}]\n",
    "\n",
    "# Next, convert each phrase to a Doc object:\n",
    "# phrase_patterns = [nlp(text) for text in phrase_list]\n",
    "# print(phrase_patterns)"
   ]
  },
  {
   "cell_type": "code",
   "execution_count": 58,
   "metadata": {},
   "outputs": [
    {
     "name": "stdout",
     "output_type": "stream",
     "text": [
      "[(3473369816841043438, 54, 55), (3473369816841043438, 591, 592)]\n",
      "voodoo\n",
      "voodoo\n"
     ]
    }
   ],
   "source": [
    "matcher.add('VoodooEconomics',[phrase_list])\n",
    "matches=matcher(doc3)\n",
    "print(matches)\n",
    "for cor in matches:\n",
    "    print(doc3[cor[1]:cor[2]])"
   ]
  }
 ],
 "metadata": {
  "kernelspec": {
   "display_name": "Python 3",
   "language": "python",
   "name": "python3"
  },
  "language_info": {
   "codemirror_mode": {
    "name": "ipython",
    "version": 3
   },
   "file_extension": ".py",
   "mimetype": "text/x-python",
   "name": "python",
   "nbconvert_exporter": "python",
   "pygments_lexer": "ipython3",
   "version": "3.11.4"
  },
  "orig_nbformat": 4
 },
 "nbformat": 4,
 "nbformat_minor": 2
}
