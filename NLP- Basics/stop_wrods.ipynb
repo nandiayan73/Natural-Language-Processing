{
 "cells": [
  {
   "cell_type": "code",
   "execution_count": 14,
   "metadata": {},
   "outputs": [],
   "source": [
    "import spacy\n",
    "nlp=spacy.load('en_core_web_sm')"
   ]
  },
  {
   "cell_type": "code",
   "execution_count": 15,
   "metadata": {},
   "outputs": [
    {
     "name": "stdout",
     "output_type": "stream",
     "text": [
      "{'done', 'all', 'others', 'name', 'whose', 'rather', 'other', 'five', 'was', 'did', '‘ll', 'when', \"'ve\", 'becoming', 'just', 'except', 'nor', 'every', 'whatever', 'below', 'my', 'eight', 'until', 'due', 'make', 'whereafter', 'at', 'first', 'further', 'several', 'sixty', 'there', 'even', 'yourself', 'himself', 'whether', 'their', 're', 'back', 'ever', 'top', 'else', 'whence', 'whom', 'everyone', 'can', 'call', 'neither', 'hereby', 'above', 'thereafter', 'though', 'herself', 'something', 'what', 'well', 'has', 'why', 'each', 'had', 'have', 'n’t', 'therefore', 'into', 'an', 'still', '‘ve', 'hereafter', 'formerly', 'none', '‘s', 'hence', 'never', 'one', 'thru', 'side', 'unless', 'whenever', 'such', 'so', 'forty', 'same', \"'m\", 'seemed', 'yourselves', 'since', 'cannot', 'someone', 'four', 'after', 'here', 'while', 'of', '‘d', 'to', 'anything', 'me', 'empty', 'former', 'if', 'with', 'another', 'seeming', 'who', 'up', '’re', 'whoever', 'mostly', 'it', 'across', 'enough', 'whither', 'fifteen', 'latter', 'many', 'hereupon', 'but', 'before', 'much', 'three', 'please', 'most', 'between', 'these', 'would', '’m', '‘re', 'the', 'next', \"'s\", 'she', 'seems', 'around', 'could', 'them', 'otherwise', 'beyond', 'anyone', 'then', 'off', 'ourselves', 'per', 'down', 'noone', 'also', 'both', 'by', 'not', 'regarding', 'nine', 'hundred', 'over', 'during', 'eleven', 'less', 'quite', 'ten', 'together', 'that', 'everything', 'anyway', 'without', 'twelve', 'for', \"'ll\", 'mine', 'own', 'thence', 'from', 'nevertheless', 'on', 'already', 'and', 'either', 'yours', 'any', 'again', 'been', 'used', 'being', 'ca', 'which', 'therein', 'toward', 'namely', 'her', 'indeed', 'say', 'be', 'whereupon', 'always', 'nowhere', 'put', 'your', 'afterwards', 'upon', 'thereupon', 'they', 'give', 'thereby', 'nobody', 'about', 'however', 'twenty', '’ve', 'no', 'itself', 'n‘t', 'more', 'besides', 'becomes', 'am', 'move', 'elsewhere', 'wherein', 'wherever', 'you', 'almost', 'under', 'latterly', 'he', 'hers', 'somehow', 'sometimes', 'we', 'see', 'whereas', 'themselves', 'do', 'anywhere', 'because', 'might', 'take', 'often', 'become', '’ll', 'few', 'beside', 'moreover', 'towards', 'somewhere', 'amongst', 'show', '’s', 'its', 'throughout', 'those', 'two', '’d', 'six', 'last', 'beforehand', 'whole', 'bottom', 'now', 'doing', 'may', 'meanwhile', 'too', 'where', 'him', 'us', 'ours', 'anyhow', \"n't\", 'through', 'serious', \"'d\", 'amount', 'really', 'part', 'full', 'his', 'seem', 'although', 'get', 'everywhere', 'some', 'keep', 'onto', 'whereby', 'does', 'are', 'once', 'only', 'sometime', 'alone', 'very', 'should', 'must', 'perhaps', 'behind', 'as', 'i', 'thus', 'a', 'against', 'in', 'front', 'various', 'among', 'go', 'least', 'within', 'using', 'yet', 'this', 'third', 'than', '‘m', 'out', 'myself', 'or', 'via', 'made', 'nothing', 'became', 'herein', 'along', 'how', \"'re\", 'were', 'our', 'fifty', 'will'}\n"
     ]
    }
   ],
   "source": [
    "print(nlp.Defaults.stop_words)"
   ]
  },
  {
   "cell_type": "code",
   "execution_count": 16,
   "metadata": {},
   "outputs": [
    {
     "data": {
      "text/plain": [
       "False"
      ]
     },
     "execution_count": 16,
     "metadata": {},
     "output_type": "execute_result"
    }
   ],
   "source": [
    "nlp.vocab[\"is\"].is_stop"
   ]
  },
  {
   "cell_type": "markdown",
   "metadata": {},
   "source": [
    "adding a stop word of my own choice"
   ]
  },
  {
   "cell_type": "code",
   "execution_count": 17,
   "metadata": {},
   "outputs": [
    {
     "data": {
      "text/plain": [
       "True"
      ]
     },
     "execution_count": 17,
     "metadata": {},
     "output_type": "execute_result"
    }
   ],
   "source": [
    "nlp.vocab[\"gay\"].is_stop=True\n",
    "nlp.vocab[\"gay\"].is_stop"
   ]
  },
  {
   "cell_type": "markdown",
   "metadata": {},
   "source": [
    "Removing a stop word\n"
   ]
  },
  {
   "cell_type": "code",
   "execution_count": 18,
   "metadata": {},
   "outputs": [
    {
     "ename": "KeyError",
     "evalue": "'is'",
     "output_type": "error",
     "traceback": [
      "\u001b[1;31m---------------------------------------------------------------------------\u001b[0m",
      "\u001b[1;31mKeyError\u001b[0m                                  Traceback (most recent call last)",
      "\u001b[1;32md:\\CODING\\AIML\\Natural Language Processing\\NLP- Basics\\stop_wrods.ipynb Cell 7\u001b[0m line \u001b[0;36m1\n\u001b[1;32m----> <a href='vscode-notebook-cell:/d%3A/CODING/AIML/Natural%20Language%20Processing/NLP-%20Basics/stop_wrods.ipynb#W6sZmlsZQ%3D%3D?line=0'>1</a>\u001b[0m nlp\u001b[39m.\u001b[39;49mDefaults\u001b[39m.\u001b[39;49mstop_words\u001b[39m.\u001b[39;49mremove(\u001b[39m'\u001b[39;49m\u001b[39mis\u001b[39;49m\u001b[39m'\u001b[39;49m)\n\u001b[0;32m      <a href='vscode-notebook-cell:/d%3A/CODING/AIML/Natural%20Language%20Processing/NLP-%20Basics/stop_wrods.ipynb#W6sZmlsZQ%3D%3D?line=1'>2</a>\u001b[0m nlp\u001b[39m.\u001b[39mvocab[\u001b[39m\"\u001b[39m\u001b[39mis\u001b[39m\u001b[39m\"\u001b[39m]\u001b[39m.\u001b[39mis_stop\u001b[39m=\u001b[39m\u001b[39mFalse\u001b[39;00m\n\u001b[0;32m      <a href='vscode-notebook-cell:/d%3A/CODING/AIML/Natural%20Language%20Processing/NLP-%20Basics/stop_wrods.ipynb#W6sZmlsZQ%3D%3D?line=2'>3</a>\u001b[0m nlp\u001b[39m.\u001b[39mvocab[\u001b[39m\"\u001b[39m\u001b[39mis\u001b[39m\u001b[39m\"\u001b[39m]\u001b[39m.\u001b[39mis_stop\n",
      "\u001b[1;31mKeyError\u001b[0m: 'is'"
     ]
    }
   ],
   "source": [
    "nlp.Defaults.stop_words.remove('is')\n",
    "nlp.vocab[\"is\"].is_stop=False\n",
    "nlp.vocab[\"is\"].is_stop"
   ]
  },
  {
   "cell_type": "code",
   "execution_count": null,
   "metadata": {},
   "outputs": [
    {
     "data": {
      "text/plain": [
       "True"
      ]
     },
     "execution_count": 12,
     "metadata": {},
     "output_type": "execute_result"
    }
   ],
   "source": [
    "nlp.vocab[\"is\"].is_stop=True\n",
    "nlp.vocab[\"is\"].is_stop"
   ]
  },
  {
   "cell_type": "markdown",
   "metadata": {},
   "source": []
  }
 ],
 "metadata": {
  "kernelspec": {
   "display_name": "Python 3",
   "language": "python",
   "name": "python3"
  },
  "language_info": {
   "codemirror_mode": {
    "name": "ipython",
    "version": 3
   },
   "file_extension": ".py",
   "mimetype": "text/x-python",
   "name": "python",
   "nbconvert_exporter": "python",
   "pygments_lexer": "ipython3",
   "version": "3.11.4"
  },
  "orig_nbformat": 4
 },
 "nbformat": 4,
 "nbformat_minor": 2
}
