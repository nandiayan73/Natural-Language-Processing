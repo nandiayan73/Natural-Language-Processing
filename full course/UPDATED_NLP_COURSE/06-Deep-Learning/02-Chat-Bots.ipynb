{
 "cells": [
  {
   "cell_type": "markdown",
   "metadata": {},
   "source": [
    "___\n",
    "\n",
    "<a href='http://www.pieriandata.com'> <img src='../Pierian_Data_Logo.png' /></a>\n",
    "___\n",
    "# Question and Answer Chat Bots"
   ]
  },
  {
   "cell_type": "markdown",
   "metadata": {},
   "source": [
    "----\n",
    "\n",
    "------"
   ]
  },
  {
   "cell_type": "markdown",
   "metadata": {},
   "source": [
    "## Loading the Data\n",
    "\n",
    "We will be working with the Babi Data Set from Facebook Research.\n",
    "\n",
    "Full Details: https://research.fb.com/downloads/babi/\n",
    "\n",
    "- Jason Weston, Antoine Bordes, Sumit Chopra, Tomas Mikolov, Alexander M. Rush,\n",
    "  \"Towards AI-Complete Question Answering: A Set of Prerequisite Toy Tasks\",\n",
    "  http://arxiv.org/abs/1502.05698\n"
   ]
  },
  {
   "cell_type": "code",
   "execution_count": 51,
   "metadata": {
    "collapsed": true
   },
   "outputs": [],
   "source": [
    "import pickle\n",
    "import numpy as np"
   ]
  },
  {
   "cell_type": "code",
   "execution_count": 52,
   "metadata": {
    "collapsed": true
   },
   "outputs": [],
   "source": [
    "with open(\"train_qa.txt\", \"rb\") as fp:   # Unpickling\n",
    "    train_data =  pickle.load(fp)"
   ]
  },
  {
   "cell_type": "code",
   "execution_count": 53,
   "metadata": {
    "collapsed": true
   },
   "outputs": [],
   "source": [
    "with open(\"test_qa.txt\", \"rb\") as fp:   # Unpickling\n",
    "    test_data =  pickle.load(fp)"
   ]
  },
  {
   "cell_type": "markdown",
   "metadata": {},
   "source": [
    "----"
   ]
  },
  {
   "cell_type": "markdown",
   "metadata": {},
   "source": [
    "## Exploring the Format of the Data"
   ]
  },
  {
   "cell_type": "code",
   "execution_count": 54,
   "metadata": {},
   "outputs": [
    {
     "data": {
      "text/plain": [
       "list"
      ]
     },
     "execution_count": 54,
     "metadata": {},
     "output_type": "execute_result"
    }
   ],
   "source": [
    "type(test_data)"
   ]
  },
  {
   "cell_type": "code",
   "execution_count": 55,
   "metadata": {},
   "outputs": [
    {
     "data": {
      "text/plain": [
       "list"
      ]
     },
     "execution_count": 55,
     "metadata": {},
     "output_type": "execute_result"
    }
   ],
   "source": [
    "type(train_data)"
   ]
  },
  {
   "cell_type": "code",
   "execution_count": 56,
   "metadata": {},
   "outputs": [
    {
     "data": {
      "text/plain": [
       "1000"
      ]
     },
     "execution_count": 56,
     "metadata": {},
     "output_type": "execute_result"
    }
   ],
   "source": [
    "len(test_data)"
   ]
  },
  {
   "cell_type": "code",
   "execution_count": 57,
   "metadata": {},
   "outputs": [
    {
     "data": {
      "text/plain": [
       "10000"
      ]
     },
     "execution_count": 57,
     "metadata": {},
     "output_type": "execute_result"
    }
   ],
   "source": [
    "len(train_data)"
   ]
  },
  {
   "cell_type": "code",
   "execution_count": 58,
   "metadata": {},
   "outputs": [
    {
     "data": {
      "text/plain": [
       "(['Mary',\n",
       "  'moved',\n",
       "  'to',\n",
       "  'the',\n",
       "  'bathroom',\n",
       "  '.',\n",
       "  'Sandra',\n",
       "  'journeyed',\n",
       "  'to',\n",
       "  'the',\n",
       "  'bedroom',\n",
       "  '.'],\n",
       " ['Is', 'Sandra', 'in', 'the', 'hallway', '?'],\n",
       " 'no')"
      ]
     },
     "execution_count": 58,
     "metadata": {},
     "output_type": "execute_result"
    }
   ],
   "source": [
    "train_data[0]"
   ]
  },
  {
   "cell_type": "code",
   "execution_count": 59,
   "metadata": {},
   "outputs": [
    {
     "data": {
      "text/plain": [
       "'Mary moved to the bathroom . Sandra journeyed to the bedroom .'"
      ]
     },
     "execution_count": 59,
     "metadata": {},
     "output_type": "execute_result"
    }
   ],
   "source": [
    "' '.join(train_data[0][0])"
   ]
  },
  {
   "cell_type": "code",
   "execution_count": 60,
   "metadata": {},
   "outputs": [
    {
     "data": {
      "text/plain": [
       "'Is Sandra in the hallway ?'"
      ]
     },
     "execution_count": 60,
     "metadata": {},
     "output_type": "execute_result"
    }
   ],
   "source": [
    "' '.join(train_data[0][1])"
   ]
  },
  {
   "cell_type": "code",
   "execution_count": 61,
   "metadata": {},
   "outputs": [
    {
     "data": {
      "text/plain": [
       "'no'"
      ]
     },
     "execution_count": 61,
     "metadata": {},
     "output_type": "execute_result"
    }
   ],
   "source": [
    "train_data[0][2]"
   ]
  },
  {
   "cell_type": "markdown",
   "metadata": {},
   "source": [
    "-----\n",
    "\n",
    "## Setting up Vocabulary of All Words"
   ]
  },
  {
   "cell_type": "code",
   "execution_count": 62,
   "metadata": {
    "collapsed": true
   },
   "outputs": [],
   "source": [
    "# Create a set that holds the vocab words\n",
    "vocab = set()"
   ]
  },
  {
   "cell_type": "code",
   "execution_count": 63,
   "metadata": {
    "collapsed": true
   },
   "outputs": [],
   "source": [
    "all_data = test_data + train_data"
   ]
  },
  {
   "cell_type": "code",
   "execution_count": 64,
   "metadata": {
    "collapsed": true
   },
   "outputs": [],
   "source": [
    "for story, question , answer in all_data:\n",
    "    # In case you don't know what a union of sets is:\n",
    "    # https://www.programiz.com/python-programming/methods/set/union\n",
    "    vocab = vocab.union(set(story))\n",
    "    vocab = vocab.union(set(question))"
   ]
  },
  {
   "cell_type": "code",
   "execution_count": 65,
   "metadata": {
    "collapsed": true
   },
   "outputs": [],
   "source": [
    "vocab.add('no')\n",
    "vocab.add('yes')"
   ]
  },
  {
   "cell_type": "code",
   "execution_count": 66,
   "metadata": {},
   "outputs": [
    {
     "data": {
      "text/plain": [
       "{'.',\n",
       " '?',\n",
       " 'Daniel',\n",
       " 'Is',\n",
       " 'John',\n",
       " 'Mary',\n",
       " 'Sandra',\n",
       " 'apple',\n",
       " 'back',\n",
       " 'bathroom',\n",
       " 'bedroom',\n",
       " 'discarded',\n",
       " 'down',\n",
       " 'dropped',\n",
       " 'football',\n",
       " 'garden',\n",
       " 'got',\n",
       " 'grabbed',\n",
       " 'hallway',\n",
       " 'in',\n",
       " 'journeyed',\n",
       " 'kitchen',\n",
       " 'left',\n",
       " 'milk',\n",
       " 'moved',\n",
       " 'no',\n",
       " 'office',\n",
       " 'picked',\n",
       " 'put',\n",
       " 'the',\n",
       " 'there',\n",
       " 'to',\n",
       " 'took',\n",
       " 'travelled',\n",
       " 'up',\n",
       " 'went',\n",
       " 'yes'}"
      ]
     },
     "execution_count": 66,
     "metadata": {},
     "output_type": "execute_result"
    }
   ],
   "source": [
    "vocab"
   ]
  },
  {
   "cell_type": "code",
   "execution_count": 67,
   "metadata": {
    "collapsed": true
   },
   "outputs": [],
   "source": [
    "vocab_len = len(vocab) + 1 #we add an extra space to hold a 0 for Keras's pad_sequences"
   ]
  },
  {
   "cell_type": "code",
   "execution_count": 68,
   "metadata": {
    "collapsed": true
   },
   "outputs": [],
   "source": [
    "max_story_len = max([len(data[0]) for data in all_data])"
   ]
  },
  {
   "cell_type": "code",
   "execution_count": 69,
   "metadata": {},
   "outputs": [
    {
     "data": {
      "text/plain": [
       "156"
      ]
     },
     "execution_count": 69,
     "metadata": {},
     "output_type": "execute_result"
    }
   ],
   "source": [
    "max_story_len"
   ]
  },
  {
   "cell_type": "code",
   "execution_count": 70,
   "metadata": {
    "collapsed": true
   },
   "outputs": [],
   "source": [
    "max_question_len = max([len(data[1]) for data in all_data])"
   ]
  },
  {
   "cell_type": "code",
   "execution_count": 71,
   "metadata": {},
   "outputs": [
    {
     "data": {
      "text/plain": [
       "6"
      ]
     },
     "execution_count": 71,
     "metadata": {},
     "output_type": "execute_result"
    }
   ],
   "source": [
    "max_question_len"
   ]
  },
  {
   "cell_type": "markdown",
   "metadata": {},
   "source": [
    "## Vectorizing the Data"
   ]
  },
  {
   "cell_type": "code",
   "execution_count": 72,
   "metadata": {},
   "outputs": [
    {
     "data": {
      "text/plain": [
       "{'.',\n",
       " '?',\n",
       " 'Daniel',\n",
       " 'Is',\n",
       " 'John',\n",
       " 'Mary',\n",
       " 'Sandra',\n",
       " 'apple',\n",
       " 'back',\n",
       " 'bathroom',\n",
       " 'bedroom',\n",
       " 'discarded',\n",
       " 'down',\n",
       " 'dropped',\n",
       " 'football',\n",
       " 'garden',\n",
       " 'got',\n",
       " 'grabbed',\n",
       " 'hallway',\n",
       " 'in',\n",
       " 'journeyed',\n",
       " 'kitchen',\n",
       " 'left',\n",
       " 'milk',\n",
       " 'moved',\n",
       " 'no',\n",
       " 'office',\n",
       " 'picked',\n",
       " 'put',\n",
       " 'the',\n",
       " 'there',\n",
       " 'to',\n",
       " 'took',\n",
       " 'travelled',\n",
       " 'up',\n",
       " 'went',\n",
       " 'yes'}"
      ]
     },
     "execution_count": 72,
     "metadata": {},
     "output_type": "execute_result"
    }
   ],
   "source": [
    "vocab"
   ]
  },
  {
   "cell_type": "code",
   "execution_count": 73,
   "metadata": {
    "collapsed": true
   },
   "outputs": [],
   "source": [
    "# Reserve 0 for pad_sequences\n",
    "vocab_size = len(vocab) + 1"
   ]
  },
  {
   "cell_type": "markdown",
   "metadata": {},
   "source": [
    "-----------"
   ]
  },
  {
   "cell_type": "code",
   "execution_count": 74,
   "metadata": {},
   "outputs": [],
   "source": [
    "from keras.preprocessing.sequence import pad_sequences\n",
    "from keras.preprocessing.text import Tokenizer"
   ]
  },
  {
   "cell_type": "code",
   "execution_count": 75,
   "metadata": {
    "collapsed": true
   },
   "outputs": [],
   "source": [
    "# integer encode sequences of words\n",
    "tokenizer = Tokenizer(filters=[])\n",
    "tokenizer.fit_on_texts(vocab)"
   ]
  },
  {
   "cell_type": "code",
   "execution_count": 76,
   "metadata": {},
   "outputs": [
    {
     "data": {
      "text/plain": [
       "{'apple': 1,\n",
       " 'travelled': 2,\n",
       " 'no': 3,\n",
       " 'took': 4,\n",
       " 'john': 5,\n",
       " 'to': 6,\n",
       " 'there': 7,\n",
       " 'daniel': 8,\n",
       " 'moved': 9,\n",
       " 'sandra': 10,\n",
       " 'yes': 11,\n",
       " 'hallway': 12,\n",
       " 'got': 13,\n",
       " 'is': 14,\n",
       " 'kitchen': 15,\n",
       " 'dropped': 16,\n",
       " 'back': 17,\n",
       " 'picked': 18,\n",
       " 'football': 19,\n",
       " 'in': 20,\n",
       " 'left': 21,\n",
       " 'milk': 22,\n",
       " 'down': 23,\n",
       " 'office': 24,\n",
       " 'bathroom': 25,\n",
       " 'mary': 26,\n",
       " 'the': 27,\n",
       " 'bedroom': 28,\n",
       " '?': 29,\n",
       " 'journeyed': 30,\n",
       " '.': 31,\n",
       " 'put': 32,\n",
       " 'grabbed': 33,\n",
       " 'up': 34,\n",
       " 'went': 35,\n",
       " 'discarded': 36,\n",
       " 'garden': 37}"
      ]
     },
     "execution_count": 76,
     "metadata": {},
     "output_type": "execute_result"
    }
   ],
   "source": [
    "tokenizer.word_index"
   ]
  },
  {
   "cell_type": "code",
   "execution_count": 77,
   "metadata": {
    "collapsed": true
   },
   "outputs": [],
   "source": [
    "train_story_text = []\n",
    "train_question_text = []\n",
    "train_answers = []\n",
    "\n",
    "for story,question,answer in train_data:\n",
    "    train_story_text.append(story)\n",
    "    train_question_text.append(question)"
   ]
  },
  {
   "cell_type": "code",
   "execution_count": 78,
   "metadata": {
    "collapsed": true
   },
   "outputs": [],
   "source": [
    "train_story_seq = tokenizer.texts_to_sequences(train_story_text)"
   ]
  },
  {
   "cell_type": "code",
   "execution_count": 79,
   "metadata": {},
   "outputs": [
    {
     "data": {
      "text/plain": [
       "10000"
      ]
     },
     "execution_count": 79,
     "metadata": {},
     "output_type": "execute_result"
    }
   ],
   "source": [
    "len(train_story_text)"
   ]
  },
  {
   "cell_type": "code",
   "execution_count": 80,
   "metadata": {},
   "outputs": [
    {
     "data": {
      "text/plain": [
       "10000"
      ]
     },
     "execution_count": 80,
     "metadata": {},
     "output_type": "execute_result"
    }
   ],
   "source": [
    "len(train_story_seq)"
   ]
  },
  {
   "cell_type": "code",
   "execution_count": 81,
   "metadata": {
    "collapsed": true
   },
   "outputs": [],
   "source": [
    "# word_index = tokenizer.word_index"
   ]
  },
  {
   "cell_type": "markdown",
   "metadata": {},
   "source": [
    "### Functionalize Vectorization"
   ]
  },
  {
   "cell_type": "code",
   "execution_count": 82,
   "metadata": {
    "collapsed": true
   },
   "outputs": [],
   "source": [
    "def vectorize_stories(data, word_index=tokenizer.word_index, max_story_len=max_story_len,max_question_len=max_question_len):\n",
    "    '''\n",
    "    INPUT: \n",
    "    \n",
    "    data: consisting of Stories,Queries,and Answers\n",
    "    word_index: word index dictionary from tokenizer\n",
    "    max_story_len: the length of the longest story (used for pad_sequences function)\n",
    "    max_question_len: length of the longest question (used for pad_sequences function)\n",
    "\n",
    "\n",
    "    OUTPUT:\n",
    "    \n",
    "    Vectorizes the stories,questions, and answers into padded sequences. We first loop for every story, query , and\n",
    "    answer in the data. Then we convert the raw words to an word index value. Then we append each set to their appropriate\n",
    "    output list. Then once we have converted the words to numbers, we pad the sequences so they are all of equal length.\n",
    "    \n",
    "    Returns this in the form of a tuple (X,Xq,Y) (padded based on max lengths)\n",
    "    '''\n",
    "    \n",
    "    \n",
    "    # X = STORIES\n",
    "    X = []\n",
    "    # Xq = QUERY/QUESTION\n",
    "    Xq = []\n",
    "    # Y = CORRECT ANSWER\n",
    "    Y = []\n",
    "    \n",
    "    \n",
    "    for story, query, answer in data:\n",
    "        \n",
    "        # Grab the word index for every word in story\n",
    "        x = [word_index[word.lower()] for word in story]\n",
    "        # Grab the word index for every word in query\n",
    "        xq = [word_index[word.lower()] for word in query]\n",
    "        \n",
    "        # Grab the Answers (either Yes/No so we don't need to use list comprehension here)\n",
    "        # Index 0 is reserved so we're going to use + 1\n",
    "        y = np.zeros(len(word_index) + 1)\n",
    "        \n",
    "        # Now that y is all zeros and we know its just Yes/No , we can use numpy logic to create this assignment\n",
    "        #\n",
    "        y[word_index[answer]] = 1\n",
    "        \n",
    "        # Append each set of story,query, and answer to their respective holding lists\n",
    "        X.append(x)\n",
    "        Xq.append(xq)\n",
    "        Y.append(y)\n",
    "        \n",
    "    # Finally, pad the sequences based on their max length so the RNN can be trained on uniformly long sequences.\n",
    "        \n",
    "    # RETURN TUPLE FOR UNPACKING\n",
    "    return (pad_sequences(X, maxlen=max_story_len),pad_sequences(Xq, maxlen=max_question_len), np.array(Y))"
   ]
  },
  {
   "cell_type": "code",
   "execution_count": 83,
   "metadata": {
    "collapsed": true
   },
   "outputs": [],
   "source": [
    "inputs_train, queries_train, answers_train = vectorize_stories(train_data)"
   ]
  },
  {
   "cell_type": "code",
   "execution_count": 84,
   "metadata": {
    "collapsed": true
   },
   "outputs": [],
   "source": [
    "inputs_test, queries_test, answers_test = vectorize_stories(test_data)"
   ]
  },
  {
   "cell_type": "code",
   "execution_count": 85,
   "metadata": {},
   "outputs": [
    {
     "data": {
      "text/plain": [
       "array([[ 0,  0,  0, ..., 27, 28, 31],\n",
       "       [ 0,  0,  0, ..., 27, 37, 31],\n",
       "       [ 0,  0,  0, ..., 27, 37, 31],\n",
       "       ...,\n",
       "       [ 0,  0,  0, ..., 27,  1, 31],\n",
       "       [ 0,  0,  0, ..., 27, 37, 31],\n",
       "       [ 0,  0,  0, ...,  1,  7, 31]])"
      ]
     },
     "execution_count": 85,
     "metadata": {},
     "output_type": "execute_result"
    }
   ],
   "source": [
    "inputs_test"
   ]
  },
  {
   "cell_type": "code",
   "execution_count": 86,
   "metadata": {},
   "outputs": [
    {
     "data": {
      "text/plain": [
       "array([[14,  5, 20, 27, 15, 29],\n",
       "       [14,  5, 20, 27, 15, 29],\n",
       "       [14,  5, 20, 27, 37, 29],\n",
       "       ...,\n",
       "       [14, 26, 20, 27, 28, 29],\n",
       "       [14, 10, 20, 27, 37, 29],\n",
       "       [14, 26, 20, 27, 37, 29]])"
      ]
     },
     "execution_count": 86,
     "metadata": {},
     "output_type": "execute_result"
    }
   ],
   "source": [
    "queries_test"
   ]
  },
  {
   "cell_type": "code",
   "execution_count": 87,
   "metadata": {},
   "outputs": [
    {
     "data": {
      "text/plain": [
       "array([[0., 0., 0., ..., 0., 0., 0.],\n",
       "       [0., 0., 0., ..., 0., 0., 0.],\n",
       "       [0., 0., 0., ..., 0., 0., 0.],\n",
       "       ...,\n",
       "       [0., 0., 0., ..., 0., 0., 0.],\n",
       "       [0., 0., 0., ..., 0., 0., 0.],\n",
       "       [0., 0., 0., ..., 0., 0., 0.]])"
      ]
     },
     "execution_count": 87,
     "metadata": {},
     "output_type": "execute_result"
    }
   ],
   "source": [
    "answers_test"
   ]
  },
  {
   "cell_type": "code",
   "execution_count": 88,
   "metadata": {},
   "outputs": [
    {
     "data": {
      "text/plain": [
       "array([  0.,   0.,   0., 503.,   0.,   0.,   0.,   0.,   0.,   0.,   0.,\n",
       "       497.,   0.,   0.,   0.,   0.,   0.,   0.,   0.,   0.,   0.,   0.,\n",
       "         0.,   0.,   0.,   0.,   0.,   0.,   0.,   0.,   0.,   0.,   0.,\n",
       "         0.,   0.,   0.,   0.,   0.])"
      ]
     },
     "execution_count": 88,
     "metadata": {},
     "output_type": "execute_result"
    }
   ],
   "source": [
    "sum(answers_test)"
   ]
  },
  {
   "cell_type": "code",
   "execution_count": 89,
   "metadata": {},
   "outputs": [
    {
     "data": {
      "text/plain": [
       "11"
      ]
     },
     "execution_count": 89,
     "metadata": {},
     "output_type": "execute_result"
    }
   ],
   "source": [
    "tokenizer.word_index['yes']"
   ]
  },
  {
   "cell_type": "code",
   "execution_count": 90,
   "metadata": {},
   "outputs": [
    {
     "data": {
      "text/plain": [
       "3"
      ]
     },
     "execution_count": 90,
     "metadata": {},
     "output_type": "execute_result"
    }
   ],
   "source": [
    "tokenizer.word_index['no']"
   ]
  },
  {
   "cell_type": "markdown",
   "metadata": {},
   "source": [
    "## Creating the Model"
   ]
  },
  {
   "cell_type": "code",
   "execution_count": 91,
   "metadata": {
    "collapsed": true
   },
   "outputs": [],
   "source": [
    "from keras.models import Sequential, Model\n",
    "# from keras.layers.embeddings import Embedding\n",
    "from keras.layers import Embedding\n",
    "from keras.layers import Input, Activation, Dense, Permute, Dropout\n",
    "from keras.layers import add, dot, concatenate\n",
    "from keras.layers import LSTM"
   ]
  },
  {
   "cell_type": "markdown",
   "metadata": {},
   "source": [
    "### Placeholders for Inputs\n",
    "\n",
    "Recall we technically have two inputs, stories and questions. So we need to use placeholders. `Input()` is used to instantiate a Keras tensor.\n"
   ]
  },
  {
   "cell_type": "code",
   "execution_count": 92,
   "metadata": {
    "collapsed": true
   },
   "outputs": [],
   "source": [
    "input_sequence = Input((max_story_len,))\n",
    "question = Input((max_question_len,))"
   ]
  },
  {
   "cell_type": "markdown",
   "metadata": {
    "collapsed": true
   },
   "source": [
    "### Building the Networks\n",
    "\n",
    "To understand why we chose this setup, make sure to read the paper we are using:\n",
    "\n",
    "* Sainbayar Sukhbaatar, Arthur Szlam, Jason Weston, Rob Fergus,\n",
    "  \"End-To-End Memory Networks\",\n",
    "  http://arxiv.org/abs/1503.08895"
   ]
  },
  {
   "cell_type": "markdown",
   "metadata": {},
   "source": [
    "## Encoders\n",
    "\n",
    "### Input Encoder m"
   ]
  },
  {
   "cell_type": "code",
   "execution_count": 93,
   "metadata": {
    "collapsed": true
   },
   "outputs": [],
   "source": [
    "# Input gets embedded to a sequence of vectors\n",
    "input_encoder_m = Sequential()\n",
    "input_encoder_m.add(Embedding(input_dim=vocab_size,output_dim=64))\n",
    "input_encoder_m.add(Dropout(0.3))\n",
    "\n",
    "# This encoder will output:\n",
    "# (samples, story_maxlen, embedding_dim)"
   ]
  },
  {
   "cell_type": "markdown",
   "metadata": {},
   "source": [
    "### Input Encoder c"
   ]
  },
  {
   "cell_type": "code",
   "execution_count": 94,
   "metadata": {
    "collapsed": true
   },
   "outputs": [],
   "source": [
    "# embed the input into a sequence of vectors of size query_maxlen\n",
    "input_encoder_c = Sequential()\n",
    "input_encoder_c.add(Embedding(input_dim=vocab_size,output_dim=max_question_len))\n",
    "input_encoder_c.add(Dropout(0.3))\n",
    "# output: (samples, story_maxlen, query_maxlen)"
   ]
  },
  {
   "cell_type": "markdown",
   "metadata": {},
   "source": [
    "### Question Encoder"
   ]
  },
  {
   "cell_type": "code",
   "execution_count": 95,
   "metadata": {
    "collapsed": true
   },
   "outputs": [],
   "source": [
    "# embed the question into a sequence of vectors\n",
    "question_encoder = Sequential()\n",
    "question_encoder.add(Embedding(input_dim=vocab_size,\n",
    "                               output_dim=64,\n",
    "                               input_length=max_question_len))\n",
    "question_encoder.add(Dropout(0.3))\n",
    "# output: (samples, query_maxlen, embedding_dim)"
   ]
  },
  {
   "cell_type": "markdown",
   "metadata": {},
   "source": [
    "### Encode the Sequences"
   ]
  },
  {
   "cell_type": "code",
   "execution_count": 96,
   "metadata": {
    "collapsed": true
   },
   "outputs": [],
   "source": [
    "# encode input sequence and questions (which are indices)\n",
    "# to sequences of dense vectors\n",
    "input_encoded_m = input_encoder_m(input_sequence)\n",
    "input_encoded_c = input_encoder_c(input_sequence)\n",
    "question_encoded = question_encoder(question)"
   ]
  },
  {
   "cell_type": "markdown",
   "metadata": {},
   "source": [
    "##### Use dot product to compute the match between first input vector seq and the query"
   ]
  },
  {
   "cell_type": "code",
   "execution_count": 97,
   "metadata": {
    "collapsed": true
   },
   "outputs": [],
   "source": [
    "# shape: `(samples, story_maxlen, query_maxlen)`\n",
    "match = dot([input_encoded_m, question_encoded], axes=(2, 2))\n",
    "match = Activation('softmax')(match)"
   ]
  },
  {
   "cell_type": "markdown",
   "metadata": {},
   "source": [
    "#### Add this match matrix with the second input vector sequence"
   ]
  },
  {
   "cell_type": "code",
   "execution_count": 98,
   "metadata": {
    "collapsed": true
   },
   "outputs": [],
   "source": [
    "# add the match matrix with the second input vector sequence\n",
    "response = add([match, input_encoded_c])  # (samples, story_maxlen, query_maxlen)\n",
    "response = Permute((2, 1))(response)  # (samples, query_maxlen, story_maxlen)"
   ]
  },
  {
   "cell_type": "markdown",
   "metadata": {},
   "source": [
    "#### Concatenate"
   ]
  },
  {
   "cell_type": "code",
   "execution_count": 99,
   "metadata": {
    "collapsed": true
   },
   "outputs": [],
   "source": [
    "# concatenate the match matrix with the question vector sequence\n",
    "answer = concatenate([response, question_encoded])"
   ]
  },
  {
   "cell_type": "code",
   "execution_count": 100,
   "metadata": {},
   "outputs": [
    {
     "data": {
      "text/plain": [
       "<KerasTensor: shape=(None, 6, 220) dtype=float32 (created by layer 'concatenate')>"
      ]
     },
     "execution_count": 100,
     "metadata": {},
     "output_type": "execute_result"
    }
   ],
   "source": [
    "answer"
   ]
  },
  {
   "cell_type": "code",
   "execution_count": 101,
   "metadata": {
    "collapsed": true
   },
   "outputs": [],
   "source": [
    "# Reduce with RNN (LSTM)\n",
    "answer = LSTM(32)(answer)  # (samples, 32)"
   ]
  },
  {
   "cell_type": "code",
   "execution_count": 102,
   "metadata": {
    "collapsed": true
   },
   "outputs": [],
   "source": [
    "# Regularization with Dropout\n",
    "answer = Dropout(0.5)(answer)\n",
    "answer = Dense(vocab_size)(answer)  # (samples, vocab_size)"
   ]
  },
  {
   "cell_type": "code",
   "execution_count": 103,
   "metadata": {
    "collapsed": true
   },
   "outputs": [],
   "source": [
    "# we output a probability distribution over the vocabulary\n",
    "answer = Activation('softmax')(answer)\n",
    "\n",
    "# build the final model\n",
    "model = Model([input_sequence, question], answer)\n",
    "model.compile(optimizer='rmsprop', loss='categorical_crossentropy',\n",
    "              metrics=['accuracy'])"
   ]
  },
  {
   "cell_type": "code",
   "execution_count": 104,
   "metadata": {},
   "outputs": [
    {
     "name": "stdout",
     "output_type": "stream",
     "text": [
      "Model: \"model\"\n",
      "__________________________________________________________________________________________________\n",
      " Layer (type)                Output Shape                 Param #   Connected to                  \n",
      "==================================================================================================\n",
      " input_3 (InputLayer)        [(None, 156)]                0         []                            \n",
      "                                                                                                  \n",
      " input_4 (InputLayer)        [(None, 6)]                  0         []                            \n",
      "                                                                                                  \n",
      " sequential (Sequential)     (None, None, 64)             2432      ['input_3[0][0]']             \n",
      "                                                                                                  \n",
      " sequential_2 (Sequential)   (None, 6, 64)                2432      ['input_4[0][0]']             \n",
      "                                                                                                  \n",
      " dot (Dot)                   (None, 156, 6)               0         ['sequential[0][0]',          \n",
      "                                                                     'sequential_2[0][0]']        \n",
      "                                                                                                  \n",
      " activation (Activation)     (None, 156, 6)               0         ['dot[0][0]']                 \n",
      "                                                                                                  \n",
      " sequential_1 (Sequential)   (None, None, 6)              228       ['input_3[0][0]']             \n",
      "                                                                                                  \n",
      " add (Add)                   (None, 156, 6)               0         ['activation[0][0]',          \n",
      "                                                                     'sequential_1[0][0]']        \n",
      "                                                                                                  \n",
      " permute (Permute)           (None, 6, 156)               0         ['add[0][0]']                 \n",
      "                                                                                                  \n",
      " concatenate (Concatenate)   (None, 6, 220)               0         ['permute[0][0]',             \n",
      "                                                                     'sequential_2[0][0]']        \n",
      "                                                                                                  \n",
      " lstm (LSTM)                 (None, 32)                   32384     ['concatenate[0][0]']         \n",
      "                                                                                                  \n",
      " dropout_3 (Dropout)         (None, 32)                   0         ['lstm[0][0]']                \n",
      "                                                                                                  \n",
      " dense (Dense)               (None, 38)                   1254      ['dropout_3[0][0]']           \n",
      "                                                                                                  \n",
      " activation_1 (Activation)   (None, 38)                   0         ['dense[0][0]']               \n",
      "                                                                                                  \n",
      "==================================================================================================\n",
      "Total params: 38730 (151.29 KB)\n",
      "Trainable params: 38730 (151.29 KB)\n",
      "Non-trainable params: 0 (0.00 Byte)\n",
      "__________________________________________________________________________________________________\n"
     ]
    }
   ],
   "source": [
    "model.summary()"
   ]
  },
  {
   "cell_type": "code",
   "execution_count": 105,
   "metadata": {},
   "outputs": [
    {
     "name": "stdout",
     "output_type": "stream",
     "text": [
      "Epoch 1/120\n"
     ]
    },
    {
     "name": "stdout",
     "output_type": "stream",
     "text": [
      "313/313 [==============================] - 12s 21ms/step - loss: 0.8830 - accuracy: 0.4865 - val_loss: 0.7000 - val_accuracy: 0.5030\n",
      "Epoch 2/120\n",
      "313/313 [==============================] - 6s 18ms/step - loss: 0.7064 - accuracy: 0.5010 - val_loss: 0.6947 - val_accuracy: 0.4970\n",
      "Epoch 3/120\n",
      "313/313 [==============================] - 6s 19ms/step - loss: 0.6978 - accuracy: 0.5022 - val_loss: 0.6932 - val_accuracy: 0.5030\n",
      "Epoch 4/120\n",
      "313/313 [==============================] - 5s 17ms/step - loss: 0.6962 - accuracy: 0.5007 - val_loss: 0.6935 - val_accuracy: 0.4970\n",
      "Epoch 5/120\n",
      "313/313 [==============================] - 6s 18ms/step - loss: 0.6962 - accuracy: 0.4984 - val_loss: 0.6933 - val_accuracy: 0.4970\n",
      "Epoch 6/120\n",
      "313/313 [==============================] - 5s 17ms/step - loss: 0.6957 - accuracy: 0.5046 - val_loss: 0.6939 - val_accuracy: 0.5030\n",
      "Epoch 7/120\n",
      "313/313 [==============================] - 5s 17ms/step - loss: 0.6950 - accuracy: 0.5033 - val_loss: 0.6936 - val_accuracy: 0.4970\n",
      "Epoch 8/120\n",
      "313/313 [==============================] - 6s 19ms/step - loss: 0.6953 - accuracy: 0.4981 - val_loss: 0.6933 - val_accuracy: 0.5030\n",
      "Epoch 9/120\n",
      "313/313 [==============================] - 6s 19ms/step - loss: 0.6946 - accuracy: 0.5073 - val_loss: 0.6965 - val_accuracy: 0.5030\n",
      "Epoch 10/120\n",
      "313/313 [==============================] - 5s 17ms/step - loss: 0.6953 - accuracy: 0.5026 - val_loss: 0.6932 - val_accuracy: 0.5030\n",
      "Epoch 11/120\n",
      "313/313 [==============================] - 6s 18ms/step - loss: 0.6950 - accuracy: 0.4927 - val_loss: 0.6946 - val_accuracy: 0.5030\n",
      "Epoch 12/120\n",
      "313/313 [==============================] - 6s 19ms/step - loss: 0.6957 - accuracy: 0.4920 - val_loss: 0.6941 - val_accuracy: 0.4970\n",
      "Epoch 13/120\n",
      "313/313 [==============================] - 6s 18ms/step - loss: 0.6941 - accuracy: 0.5108 - val_loss: 0.6944 - val_accuracy: 0.4970\n",
      "Epoch 14/120\n",
      "313/313 [==============================] - 5s 17ms/step - loss: 0.6957 - accuracy: 0.4928 - val_loss: 0.6932 - val_accuracy: 0.4970\n",
      "Epoch 15/120\n",
      "313/313 [==============================] - 6s 18ms/step - loss: 0.6956 - accuracy: 0.4944 - val_loss: 0.6941 - val_accuracy: 0.5030\n",
      "Epoch 16/120\n",
      "313/313 [==============================] - 5s 17ms/step - loss: 0.6951 - accuracy: 0.5033 - val_loss: 0.6932 - val_accuracy: 0.4970\n",
      "Epoch 17/120\n",
      "313/313 [==============================] - 5s 17ms/step - loss: 0.6950 - accuracy: 0.5009 - val_loss: 0.6933 - val_accuracy: 0.5030\n",
      "Epoch 18/120\n",
      "313/313 [==============================] - 5s 17ms/step - loss: 0.6951 - accuracy: 0.5001 - val_loss: 0.6933 - val_accuracy: 0.4970\n",
      "Epoch 19/120\n",
      "313/313 [==============================] - 5s 17ms/step - loss: 0.6949 - accuracy: 0.4991 - val_loss: 0.6933 - val_accuracy: 0.5030\n",
      "Epoch 20/120\n",
      "313/313 [==============================] - 5s 17ms/step - loss: 0.6943 - accuracy: 0.5065 - val_loss: 0.6957 - val_accuracy: 0.4970\n",
      "Epoch 21/120\n",
      "313/313 [==============================] - 5s 17ms/step - loss: 0.6948 - accuracy: 0.5049 - val_loss: 0.6934 - val_accuracy: 0.5030\n",
      "Epoch 22/120\n",
      "313/313 [==============================] - 5s 17ms/step - loss: 0.6951 - accuracy: 0.4987 - val_loss: 0.6932 - val_accuracy: 0.5030\n",
      "Epoch 23/120\n",
      "313/313 [==============================] - 6s 18ms/step - loss: 0.6952 - accuracy: 0.4922 - val_loss: 0.6938 - val_accuracy: 0.4970\n",
      "Epoch 24/120\n",
      "313/313 [==============================] - 5s 18ms/step - loss: 0.6952 - accuracy: 0.4914 - val_loss: 0.6937 - val_accuracy: 0.4970\n",
      "Epoch 25/120\n",
      "313/313 [==============================] - 5s 17ms/step - loss: 0.6954 - accuracy: 0.4930 - val_loss: 0.6935 - val_accuracy: 0.5030\n",
      "Epoch 26/120\n",
      "313/313 [==============================] - 5s 17ms/step - loss: 0.6947 - accuracy: 0.5057 - val_loss: 0.6945 - val_accuracy: 0.4970\n",
      "Epoch 27/120\n",
      "313/313 [==============================] - 5s 17ms/step - loss: 0.6953 - accuracy: 0.4951 - val_loss: 0.6931 - val_accuracy: 0.5030\n",
      "Epoch 28/120\n",
      "313/313 [==============================] - 5s 17ms/step - loss: 0.6949 - accuracy: 0.4924 - val_loss: 0.6934 - val_accuracy: 0.5030\n",
      "Epoch 29/120\n",
      "313/313 [==============================] - 5s 17ms/step - loss: 0.6951 - accuracy: 0.4941 - val_loss: 0.6931 - val_accuracy: 0.5030\n",
      "Epoch 30/120\n",
      "313/313 [==============================] - 5s 17ms/step - loss: 0.6946 - accuracy: 0.5074 - val_loss: 0.6940 - val_accuracy: 0.5030\n",
      "Epoch 31/120\n",
      "313/313 [==============================] - 5s 17ms/step - loss: 0.6950 - accuracy: 0.4956 - val_loss: 0.6931 - val_accuracy: 0.5030\n",
      "Epoch 32/120\n",
      "313/313 [==============================] - 5s 17ms/step - loss: 0.6949 - accuracy: 0.5000 - val_loss: 0.6931 - val_accuracy: 0.4980\n",
      "Epoch 33/120\n",
      "313/313 [==============================] - 5s 17ms/step - loss: 0.6950 - accuracy: 0.5013 - val_loss: 0.6933 - val_accuracy: 0.4970\n",
      "Epoch 34/120\n",
      "313/313 [==============================] - 5s 17ms/step - loss: 0.6952 - accuracy: 0.4969 - val_loss: 0.6931 - val_accuracy: 0.5030\n",
      "Epoch 35/120\n",
      "313/313 [==============================] - 5s 17ms/step - loss: 0.6946 - accuracy: 0.5083 - val_loss: 0.6931 - val_accuracy: 0.5030\n",
      "Epoch 36/120\n",
      "313/313 [==============================] - 5s 17ms/step - loss: 0.6945 - accuracy: 0.4996 - val_loss: 0.6950 - val_accuracy: 0.5030\n",
      "Epoch 37/120\n",
      "313/313 [==============================] - 5s 17ms/step - loss: 0.6947 - accuracy: 0.5030 - val_loss: 0.6939 - val_accuracy: 0.4970\n",
      "Epoch 38/120\n",
      "313/313 [==============================] - 5s 17ms/step - loss: 0.6954 - accuracy: 0.4991 - val_loss: 0.6932 - val_accuracy: 0.4970\n",
      "Epoch 39/120\n",
      "313/313 [==============================] - 5s 17ms/step - loss: 0.6948 - accuracy: 0.4960 - val_loss: 0.6934 - val_accuracy: 0.5030\n",
      "Epoch 40/120\n",
      "313/313 [==============================] - 5s 17ms/step - loss: 0.6950 - accuracy: 0.4930 - val_loss: 0.6933 - val_accuracy: 0.4970\n",
      "Epoch 41/120\n",
      "313/313 [==============================] - 5s 17ms/step - loss: 0.6947 - accuracy: 0.4996 - val_loss: 0.6932 - val_accuracy: 0.5030\n",
      "Epoch 42/120\n",
      "313/313 [==============================] - 5s 17ms/step - loss: 0.6950 - accuracy: 0.5015 - val_loss: 0.6933 - val_accuracy: 0.5030\n",
      "Epoch 43/120\n",
      "313/313 [==============================] - 5s 17ms/step - loss: 0.6946 - accuracy: 0.5029 - val_loss: 0.6933 - val_accuracy: 0.4970\n",
      "Epoch 44/120\n",
      "313/313 [==============================] - 6s 18ms/step - loss: 0.6946 - accuracy: 0.5002 - val_loss: 0.6943 - val_accuracy: 0.4970\n",
      "Epoch 45/120\n",
      "313/313 [==============================] - 6s 18ms/step - loss: 0.6948 - accuracy: 0.4989 - val_loss: 0.6941 - val_accuracy: 0.5030\n",
      "Epoch 46/120\n",
      "313/313 [==============================] - 6s 18ms/step - loss: 0.6948 - accuracy: 0.4938 - val_loss: 0.6935 - val_accuracy: 0.4970\n",
      "Epoch 47/120\n",
      "313/313 [==============================] - 6s 20ms/step - loss: 0.6946 - accuracy: 0.5075 - val_loss: 0.6933 - val_accuracy: 0.4970\n",
      "Epoch 48/120\n",
      "313/313 [==============================] - 6s 18ms/step - loss: 0.6945 - accuracy: 0.5038 - val_loss: 0.6932 - val_accuracy: 0.4780\n",
      "Epoch 49/120\n",
      "313/313 [==============================] - 5s 17ms/step - loss: 0.6944 - accuracy: 0.5085 - val_loss: 0.6934 - val_accuracy: 0.5030\n",
      "Epoch 50/120\n",
      "313/313 [==============================] - 5s 17ms/step - loss: 0.6945 - accuracy: 0.5063 - val_loss: 0.6977 - val_accuracy: 0.4970\n",
      "Epoch 51/120\n",
      "313/313 [==============================] - 6s 18ms/step - loss: 0.6946 - accuracy: 0.5021 - val_loss: 0.6932 - val_accuracy: 0.4890\n",
      "Epoch 52/120\n",
      "313/313 [==============================] - 5s 17ms/step - loss: 0.6951 - accuracy: 0.4945 - val_loss: 0.6937 - val_accuracy: 0.4970\n",
      "Epoch 53/120\n",
      "313/313 [==============================] - 5s 17ms/step - loss: 0.6945 - accuracy: 0.4969 - val_loss: 0.6931 - val_accuracy: 0.5030\n",
      "Epoch 54/120\n",
      "313/313 [==============================] - 5s 17ms/step - loss: 0.6946 - accuracy: 0.5030 - val_loss: 0.6932 - val_accuracy: 0.4970\n",
      "Epoch 55/120\n",
      "313/313 [==============================] - 5s 18ms/step - loss: 0.6946 - accuracy: 0.4999 - val_loss: 0.6936 - val_accuracy: 0.5030\n",
      "Epoch 56/120\n",
      "313/313 [==============================] - 5s 17ms/step - loss: 0.6946 - accuracy: 0.5012 - val_loss: 0.6933 - val_accuracy: 0.4950\n",
      "Epoch 57/120\n",
      "313/313 [==============================] - 6s 18ms/step - loss: 0.6944 - accuracy: 0.5004 - val_loss: 0.6941 - val_accuracy: 0.5030\n",
      "Epoch 58/120\n",
      "313/313 [==============================] - 6s 20ms/step - loss: 0.6945 - accuracy: 0.4995 - val_loss: 0.6934 - val_accuracy: 0.4940\n",
      "Epoch 59/120\n",
      "313/313 [==============================] - 5s 18ms/step - loss: 0.6945 - accuracy: 0.5000 - val_loss: 0.6932 - val_accuracy: 0.5000\n",
      "Epoch 60/120\n",
      "313/313 [==============================] - 6s 18ms/step - loss: 0.6942 - accuracy: 0.5066 - val_loss: 0.6927 - val_accuracy: 0.4970\n",
      "Epoch 61/120\n",
      "313/313 [==============================] - 6s 18ms/step - loss: 0.6935 - accuracy: 0.5141 - val_loss: 0.6916 - val_accuracy: 0.5260\n",
      "Epoch 62/120\n",
      "313/313 [==============================] - 6s 18ms/step - loss: 0.6923 - accuracy: 0.5100 - val_loss: 0.6890 - val_accuracy: 0.5380\n",
      "Epoch 63/120\n",
      "313/313 [==============================] - 5s 17ms/step - loss: 0.6880 - accuracy: 0.5305 - val_loss: 0.6860 - val_accuracy: 0.5400\n",
      "Epoch 64/120\n",
      "313/313 [==============================] - 5s 17ms/step - loss: 0.6846 - accuracy: 0.5396 - val_loss: 0.6745 - val_accuracy: 0.5830\n",
      "Epoch 65/120\n",
      "313/313 [==============================] - 6s 18ms/step - loss: 0.6678 - accuracy: 0.5890 - val_loss: 0.6412 - val_accuracy: 0.6240\n",
      "Epoch 66/120\n",
      "313/313 [==============================] - 6s 18ms/step - loss: 0.6445 - accuracy: 0.6357 - val_loss: 0.6229 - val_accuracy: 0.6700\n",
      "Epoch 67/120\n",
      "313/313 [==============================] - 6s 19ms/step - loss: 0.6357 - accuracy: 0.6460 - val_loss: 0.6174 - val_accuracy: 0.6720\n",
      "Epoch 68/120\n",
      "313/313 [==============================] - 6s 18ms/step - loss: 0.6274 - accuracy: 0.6535 - val_loss: 0.6099 - val_accuracy: 0.6680\n",
      "Epoch 69/120\n",
      "313/313 [==============================] - 6s 18ms/step - loss: 0.6233 - accuracy: 0.6603 - val_loss: 0.6076 - val_accuracy: 0.6650\n",
      "Epoch 70/120\n",
      "313/313 [==============================] - 6s 18ms/step - loss: 0.6158 - accuracy: 0.6670 - val_loss: 0.5987 - val_accuracy: 0.6910\n",
      "Epoch 71/120\n",
      "313/313 [==============================] - 6s 18ms/step - loss: 0.6063 - accuracy: 0.6750 - val_loss: 0.5804 - val_accuracy: 0.6920\n",
      "Epoch 72/120\n",
      "313/313 [==============================] - 6s 18ms/step - loss: 0.5929 - accuracy: 0.6912 - val_loss: 0.5649 - val_accuracy: 0.7040\n",
      "Epoch 73/120\n",
      "313/313 [==============================] - 5s 18ms/step - loss: 0.5848 - accuracy: 0.7013 - val_loss: 0.5438 - val_accuracy: 0.7300\n",
      "Epoch 74/120\n",
      "313/313 [==============================] - 6s 18ms/step - loss: 0.5573 - accuracy: 0.7181 - val_loss: 0.5123 - val_accuracy: 0.7540\n",
      "Epoch 75/120\n",
      "313/313 [==============================] - 6s 18ms/step - loss: 0.5322 - accuracy: 0.7444 - val_loss: 0.4833 - val_accuracy: 0.7960\n",
      "Epoch 76/120\n",
      "313/313 [==============================] - 5s 17ms/step - loss: 0.5085 - accuracy: 0.7581 - val_loss: 0.5021 - val_accuracy: 0.7670\n",
      "Epoch 77/120\n",
      "313/313 [==============================] - 6s 18ms/step - loss: 0.4880 - accuracy: 0.7762 - val_loss: 0.4632 - val_accuracy: 0.7870\n",
      "Epoch 78/120\n",
      "313/313 [==============================] - 6s 18ms/step - loss: 0.4632 - accuracy: 0.7842 - val_loss: 0.4452 - val_accuracy: 0.7880\n",
      "Epoch 79/120\n",
      "313/313 [==============================] - 6s 18ms/step - loss: 0.4503 - accuracy: 0.7952 - val_loss: 0.4697 - val_accuracy: 0.7910\n",
      "Epoch 80/120\n",
      "313/313 [==============================] - 6s 18ms/step - loss: 0.4410 - accuracy: 0.7984 - val_loss: 0.4650 - val_accuracy: 0.7860\n",
      "Epoch 81/120\n",
      "313/313 [==============================] - 6s 18ms/step - loss: 0.4352 - accuracy: 0.8019 - val_loss: 0.4199 - val_accuracy: 0.7990\n",
      "Epoch 82/120\n",
      "313/313 [==============================] - 6s 18ms/step - loss: 0.4190 - accuracy: 0.8129 - val_loss: 0.4382 - val_accuracy: 0.7880\n",
      "Epoch 83/120\n",
      "313/313 [==============================] - 6s 18ms/step - loss: 0.4156 - accuracy: 0.8113 - val_loss: 0.4445 - val_accuracy: 0.7980\n",
      "Epoch 84/120\n",
      "313/313 [==============================] - 6s 18ms/step - loss: 0.4047 - accuracy: 0.8177 - val_loss: 0.3974 - val_accuracy: 0.8160\n",
      "Epoch 85/120\n",
      "313/313 [==============================] - 6s 18ms/step - loss: 0.4009 - accuracy: 0.8244 - val_loss: 0.3966 - val_accuracy: 0.8120\n",
      "Epoch 86/120\n",
      "313/313 [==============================] - 6s 19ms/step - loss: 0.4038 - accuracy: 0.8268 - val_loss: 0.4060 - val_accuracy: 0.8200\n",
      "Epoch 87/120\n",
      "313/313 [==============================] - 6s 20ms/step - loss: 0.3996 - accuracy: 0.8234 - val_loss: 0.4049 - val_accuracy: 0.8270\n",
      "Epoch 88/120\n",
      "313/313 [==============================] - 6s 20ms/step - loss: 0.3939 - accuracy: 0.8247 - val_loss: 0.4012 - val_accuracy: 0.8150\n",
      "Epoch 89/120\n",
      "313/313 [==============================] - 6s 18ms/step - loss: 0.3896 - accuracy: 0.8312 - val_loss: 0.3878 - val_accuracy: 0.8160\n",
      "Epoch 90/120\n",
      "313/313 [==============================] - 6s 19ms/step - loss: 0.3871 - accuracy: 0.8270 - val_loss: 0.3778 - val_accuracy: 0.8210\n",
      "Epoch 91/120\n",
      "313/313 [==============================] - 6s 19ms/step - loss: 0.3883 - accuracy: 0.8262 - val_loss: 0.3912 - val_accuracy: 0.8220\n",
      "Epoch 92/120\n",
      "313/313 [==============================] - 6s 18ms/step - loss: 0.3842 - accuracy: 0.8310 - val_loss: 0.3970 - val_accuracy: 0.8070\n",
      "Epoch 93/120\n",
      "313/313 [==============================] - 5s 17ms/step - loss: 0.3811 - accuracy: 0.8354 - val_loss: 0.4017 - val_accuracy: 0.8100\n",
      "Epoch 94/120\n",
      "313/313 [==============================] - 6s 20ms/step - loss: 0.3765 - accuracy: 0.8320 - val_loss: 0.3961 - val_accuracy: 0.8190\n",
      "Epoch 95/120\n",
      "313/313 [==============================] - 6s 20ms/step - loss: 0.3802 - accuracy: 0.8349 - val_loss: 0.3829 - val_accuracy: 0.8260\n",
      "Epoch 96/120\n",
      "313/313 [==============================] - 6s 20ms/step - loss: 0.3721 - accuracy: 0.8353 - val_loss: 0.4017 - val_accuracy: 0.8180\n",
      "Epoch 97/120\n",
      "313/313 [==============================] - 6s 20ms/step - loss: 0.3714 - accuracy: 0.8348 - val_loss: 0.4065 - val_accuracy: 0.8160\n",
      "Epoch 98/120\n",
      "313/313 [==============================] - 6s 20ms/step - loss: 0.3730 - accuracy: 0.8336 - val_loss: 0.3844 - val_accuracy: 0.8130\n",
      "Epoch 99/120\n",
      "313/313 [==============================] - 6s 20ms/step - loss: 0.3704 - accuracy: 0.8337 - val_loss: 0.3855 - val_accuracy: 0.8110\n",
      "Epoch 100/120\n",
      "313/313 [==============================] - 6s 20ms/step - loss: 0.3618 - accuracy: 0.8420 - val_loss: 0.3918 - val_accuracy: 0.8280\n",
      "Epoch 101/120\n",
      "313/313 [==============================] - 6s 20ms/step - loss: 0.3639 - accuracy: 0.8423 - val_loss: 0.4057 - val_accuracy: 0.8120\n",
      "Epoch 102/120\n",
      "313/313 [==============================] - 6s 20ms/step - loss: 0.3583 - accuracy: 0.8419 - val_loss: 0.3847 - val_accuracy: 0.8150\n",
      "Epoch 103/120\n",
      "313/313 [==============================] - 6s 20ms/step - loss: 0.3634 - accuracy: 0.8424 - val_loss: 0.3781 - val_accuracy: 0.8250\n",
      "Epoch 104/120\n",
      "313/313 [==============================] - 6s 20ms/step - loss: 0.3542 - accuracy: 0.8447 - val_loss: 0.3941 - val_accuracy: 0.8210\n",
      "Epoch 105/120\n",
      "313/313 [==============================] - 6s 20ms/step - loss: 0.3556 - accuracy: 0.8391 - val_loss: 0.3855 - val_accuracy: 0.8290\n",
      "Epoch 106/120\n",
      "313/313 [==============================] - 6s 21ms/step - loss: 0.3559 - accuracy: 0.8464 - val_loss: 0.3740 - val_accuracy: 0.8320\n",
      "Epoch 107/120\n",
      "313/313 [==============================] - 7s 23ms/step - loss: 0.3492 - accuracy: 0.8498 - val_loss: 0.3829 - val_accuracy: 0.8170\n",
      "Epoch 108/120\n",
      "313/313 [==============================] - 7s 22ms/step - loss: 0.3521 - accuracy: 0.8472 - val_loss: 0.3883 - val_accuracy: 0.8210\n",
      "Epoch 109/120\n",
      "313/313 [==============================] - 6s 19ms/step - loss: 0.3488 - accuracy: 0.8501 - val_loss: 0.3939 - val_accuracy: 0.8250\n",
      "Epoch 110/120\n",
      "313/313 [==============================] - 6s 20ms/step - loss: 0.3515 - accuracy: 0.8467 - val_loss: 0.3922 - val_accuracy: 0.8230\n",
      "Epoch 111/120\n",
      "313/313 [==============================] - 6s 20ms/step - loss: 0.3475 - accuracy: 0.8509 - val_loss: 0.4240 - val_accuracy: 0.8280\n",
      "Epoch 112/120\n",
      "313/313 [==============================] - 6s 20ms/step - loss: 0.3415 - accuracy: 0.8470 - val_loss: 0.3906 - val_accuracy: 0.8250\n",
      "Epoch 113/120\n",
      "313/313 [==============================] - 6s 20ms/step - loss: 0.3410 - accuracy: 0.8502 - val_loss: 0.4018 - val_accuracy: 0.8250\n",
      "Epoch 114/120\n",
      "313/313 [==============================] - 7s 21ms/step - loss: 0.3397 - accuracy: 0.8545 - val_loss: 0.4189 - val_accuracy: 0.8190\n",
      "Epoch 115/120\n",
      "313/313 [==============================] - 7s 22ms/step - loss: 0.3392 - accuracy: 0.8529 - val_loss: 0.4022 - val_accuracy: 0.8230\n",
      "Epoch 116/120\n",
      "313/313 [==============================] - 7s 21ms/step - loss: 0.3448 - accuracy: 0.8530 - val_loss: 0.3790 - val_accuracy: 0.8240\n",
      "Epoch 117/120\n",
      "313/313 [==============================] - 6s 20ms/step - loss: 0.3404 - accuracy: 0.8517 - val_loss: 0.3825 - val_accuracy: 0.8230\n",
      "Epoch 118/120\n",
      "313/313 [==============================] - 6s 20ms/step - loss: 0.3347 - accuracy: 0.8538 - val_loss: 0.4001 - val_accuracy: 0.8140\n",
      "Epoch 119/120\n",
      "313/313 [==============================] - 6s 20ms/step - loss: 0.3306 - accuracy: 0.8535 - val_loss: 0.4049 - val_accuracy: 0.8150\n",
      "Epoch 120/120\n",
      "313/313 [==============================] - 7s 21ms/step - loss: 0.3280 - accuracy: 0.8572 - val_loss: 0.3904 - val_accuracy: 0.8270\n"
     ]
    }
   ],
   "source": [
    "# train\n",
    "history = model.fit([inputs_train, queries_train], answers_train,batch_size=32,epochs=120,validation_data=([inputs_test, queries_test], answers_test))"
   ]
  },
  {
   "cell_type": "markdown",
   "metadata": {},
   "source": [
    "### Saving the Model"
   ]
  },
  {
   "cell_type": "code",
   "execution_count": 106,
   "metadata": {
    "collapsed": true
   },
   "outputs": [
    {
     "name": "stderr",
     "output_type": "stream",
     "text": [
      "c:\\Users\\nandi.LAPTOP-6NVS0PRF\\AppData\\Local\\Programs\\Python\\Python311\\Lib\\site-packages\\keras\\src\\engine\\training.py:3000: UserWarning: You are saving your model as an HDF5 file via `model.save()`. This file format is considered legacy. We recommend using instead the native Keras format, e.g. `model.save('my_model.keras')`.\n",
      "  saving_api.save_model(\n"
     ]
    }
   ],
   "source": [
    "filename = 'chatbot_120_epochs.h5'\n",
    "model.save(filename)"
   ]
  },
  {
   "cell_type": "markdown",
   "metadata": {},
   "source": [
    "## Evaluating the Model\n",
    "\n",
    "### Plotting Out Training History"
   ]
  },
  {
   "cell_type": "code",
   "execution_count": 107,
   "metadata": {},
   "outputs": [
    {
     "name": "stdout",
     "output_type": "stream",
     "text": [
      "dict_keys(['loss', 'accuracy', 'val_loss', 'val_accuracy'])\n"
     ]
    },
    {
     "ename": "KeyError",
     "evalue": "'acc'",
     "output_type": "error",
     "traceback": [
      "\u001b[1;31m---------------------------------------------------------------------------\u001b[0m",
      "\u001b[1;31mKeyError\u001b[0m                                  Traceback (most recent call last)",
      "\u001b[1;32md:\\CODING\\AIML\\Natural Language Processing\\full course\\UPDATED_NLP_COURSE\\06-Deep-Learning\\02-Chat-Bots.ipynb Cell 78\u001b[0m line \u001b[0;36m5\n\u001b[0;32m      <a href='vscode-notebook-cell:/d%3A/CODING/AIML/Natural%20Language%20Processing/full%20course/UPDATED_NLP_COURSE/06-Deep-Learning/02-Chat-Bots.ipynb#Y140sZmlsZQ%3D%3D?line=2'>3</a>\u001b[0m \u001b[39mprint\u001b[39m(history\u001b[39m.\u001b[39mhistory\u001b[39m.\u001b[39mkeys())\n\u001b[0;32m      <a href='vscode-notebook-cell:/d%3A/CODING/AIML/Natural%20Language%20Processing/full%20course/UPDATED_NLP_COURSE/06-Deep-Learning/02-Chat-Bots.ipynb#Y140sZmlsZQ%3D%3D?line=3'>4</a>\u001b[0m \u001b[39m# summarize history for accuracy\u001b[39;00m\n\u001b[1;32m----> <a href='vscode-notebook-cell:/d%3A/CODING/AIML/Natural%20Language%20Processing/full%20course/UPDATED_NLP_COURSE/06-Deep-Learning/02-Chat-Bots.ipynb#Y140sZmlsZQ%3D%3D?line=4'>5</a>\u001b[0m plt\u001b[39m.\u001b[39mplot(history\u001b[39m.\u001b[39;49mhistory[\u001b[39m'\u001b[39;49m\u001b[39macc\u001b[39;49m\u001b[39m'\u001b[39;49m])\n\u001b[0;32m      <a href='vscode-notebook-cell:/d%3A/CODING/AIML/Natural%20Language%20Processing/full%20course/UPDATED_NLP_COURSE/06-Deep-Learning/02-Chat-Bots.ipynb#Y140sZmlsZQ%3D%3D?line=5'>6</a>\u001b[0m plt\u001b[39m.\u001b[39mplot(history\u001b[39m.\u001b[39mhistory[\u001b[39m'\u001b[39m\u001b[39mval_acc\u001b[39m\u001b[39m'\u001b[39m])\n\u001b[0;32m      <a href='vscode-notebook-cell:/d%3A/CODING/AIML/Natural%20Language%20Processing/full%20course/UPDATED_NLP_COURSE/06-Deep-Learning/02-Chat-Bots.ipynb#Y140sZmlsZQ%3D%3D?line=6'>7</a>\u001b[0m plt\u001b[39m.\u001b[39mtitle(\u001b[39m'\u001b[39m\u001b[39mmodel accuracy\u001b[39m\u001b[39m'\u001b[39m)\n",
      "\u001b[1;31mKeyError\u001b[0m: 'acc'"
     ]
    }
   ],
   "source": [
    "import matplotlib.pyplot as plt\n",
    "%matplotlib inline\n",
    "print(history.history.keys())\n",
    "# summarize history for accuracy\n",
    "plt.plot(history.history['acc'])\n",
    "plt.plot(history.history['val_acc'])\n",
    "plt.title('model accuracy')\n",
    "plt.ylabel('accuracy')\n",
    "plt.xlabel('epoch')\n",
    "plt.legend(['train', 'test'], loc='upper left')\n",
    "plt.show()"
   ]
  },
  {
   "cell_type": "markdown",
   "metadata": {},
   "source": [
    "### Evaluating on Given Test Set"
   ]
  },
  {
   "cell_type": "code",
   "execution_count": 108,
   "metadata": {
    "collapsed": true
   },
   "outputs": [
    {
     "name": "stdout",
     "output_type": "stream",
     "text": [
      "32/32 [==============================] - 2s 9ms/step\n"
     ]
    }
   ],
   "source": [
    "model.load_weights(filename)\n",
    "pred_results = model.predict(([inputs_test, queries_test]))"
   ]
  },
  {
   "cell_type": "code",
   "execution_count": 109,
   "metadata": {},
   "outputs": [
    {
     "data": {
      "text/plain": [
       "['Mary',\n",
       " 'got',\n",
       " 'the',\n",
       " 'milk',\n",
       " 'there',\n",
       " '.',\n",
       " 'John',\n",
       " 'moved',\n",
       " 'to',\n",
       " 'the',\n",
       " 'bedroom',\n",
       " '.']"
      ]
     },
     "execution_count": 109,
     "metadata": {},
     "output_type": "execute_result"
    }
   ],
   "source": [
    "test_data[0][0]"
   ]
  },
  {
   "cell_type": "code",
   "execution_count": 110,
   "metadata": {},
   "outputs": [
    {
     "name": "stdout",
     "output_type": "stream",
     "text": [
      "Mary got the milk there . John moved to the bedroom .\n"
     ]
    }
   ],
   "source": [
    "story =' '.join(word for word in test_data[0][0])\n",
    "print(story)"
   ]
  },
  {
   "cell_type": "code",
   "execution_count": 111,
   "metadata": {},
   "outputs": [
    {
     "name": "stdout",
     "output_type": "stream",
     "text": [
      "Is John in the kitchen ?\n"
     ]
    }
   ],
   "source": [
    "query = ' '.join(word for word in test_data[0][1])\n",
    "print(query)"
   ]
  },
  {
   "cell_type": "code",
   "execution_count": 112,
   "metadata": {},
   "outputs": [
    {
     "name": "stdout",
     "output_type": "stream",
     "text": [
      "True Test Answer from Data is: no\n"
     ]
    }
   ],
   "source": [
    "print(\"True Test Answer from Data is:\",test_data[0][2])"
   ]
  },
  {
   "cell_type": "code",
   "execution_count": 113,
   "metadata": {},
   "outputs": [
    {
     "name": "stdout",
     "output_type": "stream",
     "text": [
      "Predicted answer is:  no\n",
      "Probability of certainty was:  0.99989116\n"
     ]
    }
   ],
   "source": [
    "#Generate prediction from model\n",
    "val_max = np.argmax(pred_results[0])\n",
    "\n",
    "for key, val in tokenizer.word_index.items():\n",
    "    if val == val_max:\n",
    "        k = key\n",
    "\n",
    "print(\"Predicted answer is: \", k)\n",
    "print(\"Probability of certainty was: \", pred_results[0][val_max])"
   ]
  },
  {
   "cell_type": "markdown",
   "metadata": {},
   "source": [
    "## Writing Your Own Stories and Questions\n",
    "\n",
    "Remember you can only use words from the existing vocab"
   ]
  },
  {
   "cell_type": "code",
   "execution_count": null,
   "metadata": {},
   "outputs": [
    {
     "data": {
      "text/plain": [
       "{'.',\n",
       " '?',\n",
       " 'Daniel',\n",
       " 'Is',\n",
       " 'John',\n",
       " 'Mary',\n",
       " 'Sandra',\n",
       " 'apple',\n",
       " 'back',\n",
       " 'bathroom',\n",
       " 'bedroom',\n",
       " 'discarded',\n",
       " 'down',\n",
       " 'dropped',\n",
       " 'football',\n",
       " 'garden',\n",
       " 'got',\n",
       " 'grabbed',\n",
       " 'hallway',\n",
       " 'in',\n",
       " 'journeyed',\n",
       " 'kitchen',\n",
       " 'left',\n",
       " 'milk',\n",
       " 'moved',\n",
       " 'no',\n",
       " 'office',\n",
       " 'picked',\n",
       " 'put',\n",
       " 'the',\n",
       " 'there',\n",
       " 'to',\n",
       " 'took',\n",
       " 'travelled',\n",
       " 'up',\n",
       " 'went',\n",
       " 'yes'}"
      ]
     },
     "execution_count": 79,
     "metadata": {},
     "output_type": "execute_result"
    }
   ],
   "source": [
    "vocab"
   ]
  },
  {
   "cell_type": "code",
   "execution_count": null,
   "metadata": {},
   "outputs": [
    {
     "data": {
      "text/plain": [
       "['John',\n",
       " 'left',\n",
       " 'the',\n",
       " 'kitchen',\n",
       " '.',\n",
       " 'Sandra',\n",
       " 'dropped',\n",
       " 'the',\n",
       " 'football',\n",
       " 'in',\n",
       " 'the',\n",
       " 'kitchen',\n",
       " '.']"
      ]
     },
     "execution_count": 45,
     "metadata": {},
     "output_type": "execute_result"
    }
   ],
   "source": [
    "# Note the whitespace of the periods\n",
    "my_story = \"John left the kitchen . Sandra dropped the football in the kitchen .\"\n",
    "my_story.split()"
   ]
  },
  {
   "cell_type": "code",
   "execution_count": null,
   "metadata": {
    "collapsed": true
   },
   "outputs": [],
   "source": [
    "my_question = \"Is the football in the garden ?\""
   ]
  },
  {
   "cell_type": "code",
   "execution_count": null,
   "metadata": {},
   "outputs": [
    {
     "data": {
      "text/plain": [
       "['Is', 'the', 'football', 'in', 'the', 'garden', '?']"
      ]
     },
     "execution_count": 47,
     "metadata": {},
     "output_type": "execute_result"
    }
   ],
   "source": [
    "my_question.split()"
   ]
  },
  {
   "cell_type": "code",
   "execution_count": null,
   "metadata": {
    "collapsed": true
   },
   "outputs": [],
   "source": [
    "mydata = [(my_story.split(),my_question.split(),'yes')]"
   ]
  },
  {
   "cell_type": "code",
   "execution_count": null,
   "metadata": {
    "collapsed": true
   },
   "outputs": [],
   "source": [
    "my_story,my_ques,my_ans = vectorize_stories(mydata)"
   ]
  },
  {
   "cell_type": "code",
   "execution_count": null,
   "metadata": {
    "collapsed": true
   },
   "outputs": [
    {
     "ename": "NameError",
     "evalue": "name 'model' is not defined",
     "output_type": "error",
     "traceback": [
      "\u001b[1;31m---------------------------------------------------------------------------\u001b[0m",
      "\u001b[1;31mNameError\u001b[0m                                 Traceback (most recent call last)",
      "\u001b[1;32md:\\CODING\\AIML\\Natural Language Processing\\full course\\UPDATED_NLP_COURSE\\06-Deep-Learning\\02-Chat-Bots.ipynb Cell 93\u001b[0m line \u001b[0;36m1\n\u001b[1;32m----> <a href='vscode-notebook-cell:/d%3A/CODING/AIML/Natural%20Language%20Processing/full%20course/UPDATED_NLP_COURSE/06-Deep-Learning/02-Chat-Bots.ipynb#Y161sZmlsZQ%3D%3D?line=0'>1</a>\u001b[0m pred_results \u001b[39m=\u001b[39m model\u001b[39m.\u001b[39mpredict(([ my_story, my_ques]))\n",
      "\u001b[1;31mNameError\u001b[0m: name 'model' is not defined"
     ]
    }
   ],
   "source": [
    "pred_results = model.predict(([ my_story, my_ques]))"
   ]
  },
  {
   "cell_type": "code",
   "execution_count": null,
   "metadata": {},
   "outputs": [
    {
     "name": "stdout",
     "output_type": "stream",
     "text": [
      "Predicted answer is:  yes\n",
      "Probability of certainty was:  0.97079676\n"
     ]
    }
   ],
   "source": [
    "#Generate prediction from model\n",
    "val_max = np.argmax(pred_results[0])\n",
    "\n",
    "for key, val in tokenizer.word_index.items():\n",
    "    if val == val_max:\n",
    "        k = key\n",
    "\n",
    "print(\"Predicted answer is: \", k)\n",
    "print(\"Probability of certainty was: \", pred_results[0][val_max])"
   ]
  },
  {
   "cell_type": "markdown",
   "metadata": {},
   "source": [
    "# Great Job!"
   ]
  }
 ],
 "metadata": {
  "kernelspec": {
   "display_name": "Python 3",
   "language": "python",
   "name": "python3"
  },
  "language_info": {
   "codemirror_mode": {
    "name": "ipython",
    "version": 3
   },
   "file_extension": ".py",
   "mimetype": "text/x-python",
   "name": "python",
   "nbconvert_exporter": "python",
   "pygments_lexer": "ipython3",
   "version": "3.11.4"
  }
 },
 "nbformat": 4,
 "nbformat_minor": 2
}
