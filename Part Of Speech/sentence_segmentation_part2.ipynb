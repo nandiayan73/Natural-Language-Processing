{
 "cells": [
  {
   "cell_type": "code",
   "execution_count": 1,
   "metadata": {},
   "outputs": [],
   "source": [
    "import spacy\n",
    "nlp=spacy.load('en_core_web_sm')\n"
   ]
  },
  {
   "cell_type": "code",
   "execution_count": 2,
   "metadata": {},
   "outputs": [
    {
     "name": "stdout",
     "output_type": "stream",
     "text": [
      "\"Management is doing things right;leardership is doing the right things.\"\n",
      "-Peter Drucker\n"
     ]
    }
   ],
   "source": [
    "doc=nlp(u'\"Management is doing things right;leardership is doing the right things.\" -Peter Drucker')\n",
    "for sent in doc.sents:\n",
    "    print(sent)"
   ]
  },
  {
   "cell_type": "code",
   "execution_count": 20,
   "metadata": {},
   "outputs": [
    {
     "ename": "ValueError",
     "evalue": "[E004] Can't set up pipeline component: a factory for 'custom_boundaries' already exists. Existing factory: <function set_custom_boundaries at 0x000001D35066FB00>. New factory: <function set_custom_boundaries at 0x000001D350B0D1C0>",
     "output_type": "error",
     "traceback": [
      "\u001b[1;31m---------------------------------------------------------------------------\u001b[0m",
      "\u001b[1;31mValueError\u001b[0m                                Traceback (most recent call last)",
      "\u001b[1;32md:\\CODING\\AIML\\Natural Language Processing\\Part Of Speech\\sentence_segmentation_part2.ipynb Cell 3\u001b[0m line \u001b[0;36m2\n\u001b[0;32m      <a href='vscode-notebook-cell:/d%3A/CODING/AIML/Natural%20Language%20Processing/Part%20Of%20Speech/sentence_segmentation_part2.ipynb#W2sZmlsZQ%3D%3D?line=0'>1</a>\u001b[0m \u001b[39mfrom\u001b[39;00m \u001b[39mspacy\u001b[39;00m \u001b[39mimport\u001b[39;00m Language\n\u001b[1;32m----> <a href='vscode-notebook-cell:/d%3A/CODING/AIML/Natural%20Language%20Processing/Part%20Of%20Speech/sentence_segmentation_part2.ipynb#W2sZmlsZQ%3D%3D?line=1'>2</a>\u001b[0m \u001b[39m@Language\u001b[39;49m\u001b[39m.\u001b[39;49mfactory(\u001b[39m\"\u001b[39;49m\u001b[39mcustom_boundaries\u001b[39;49m\u001b[39m\"\u001b[39;49m)\n\u001b[0;32m      <a href='vscode-notebook-cell:/d%3A/CODING/AIML/Natural%20Language%20Processing/Part%20Of%20Speech/sentence_segmentation_part2.ipynb#W2sZmlsZQ%3D%3D?line=2'>3</a>\u001b[0m \u001b[39mdef\u001b[39;49;00m \u001b[39mset_custom_boundaries\u001b[39;49m(nlp, name):\n\u001b[0;32m      <a href='vscode-notebook-cell:/d%3A/CODING/AIML/Natural%20Language%20Processing/Part%20Of%20Speech/sentence_segmentation_part2.ipynb#W2sZmlsZQ%3D%3D?line=3'>4</a>\u001b[0m     \u001b[39mdef\u001b[39;49;00m \u001b[39mcustom_boundaries\u001b[39;49m(doc):\n\u001b[0;32m      <a href='vscode-notebook-cell:/d%3A/CODING/AIML/Natural%20Language%20Processing/Part%20Of%20Speech/sentence_segmentation_part2.ipynb#W2sZmlsZQ%3D%3D?line=4'>5</a>\u001b[0m         \u001b[39mfor\u001b[39;49;00m token \u001b[39min\u001b[39;49;00m doc[:\u001b[39m-\u001b[39;49m\u001b[39m1\u001b[39;49m]:\n",
      "File \u001b[1;32mc:\\Users\\nandi.LAPTOP-6NVS0PRF\\AppData\\Local\\Programs\\Python\\Python311\\Lib\\site-packages\\spacy\\language.py:511\u001b[0m, in \u001b[0;36madd_factory\u001b[1;34m(factory_func)\u001b[0m\n\u001b[0;32m    506\u001b[0m def add_factory(factory_func: Callable) -> Callable:\n\u001b[0;32m    507\u001b[0m     internal_name = cls.get_factory_name(name)\n\u001b[0;32m    508\u001b[0m     if internal_name in registry.factories:\n\u001b[0;32m    509\u001b[0m         # We only check for the internal name here – it's okay if it's a\n\u001b[0;32m    510\u001b[0m         # subclass and the base class has a factory of the same name. We\n\u001b[1;32m--> 511\u001b[0m         # also only raise if the function is different to prevent raising\n\u001b[0;32m    512\u001b[0m         # if module is reloaded.\n\u001b[0;32m    513\u001b[0m         existing_func = registry.factories.get(internal_name)\n\u001b[0;32m    514\u001b[0m         if not util.is_same_func(factory_func, existing_func):\n",
      "\u001b[1;31mValueError\u001b[0m: [E004] Can't set up pipeline component: a factory for 'custom_boundaries' already exists. Existing factory: <function set_custom_boundaries at 0x000001D35066FB00>. New factory: <function set_custom_boundaries at 0x000001D350B0D1C0>"
     ]
    }
   ],
   "source": [
    "from spacy import Language\n",
    "@Language.factory(\"custom_boundaries\")\n",
    "def set_custom_boundaries(nlp, name):\n",
    "    def custom_boundaries(doc):\n",
    "        for token in doc[:-1]:\n",
    "            if token.text == ';':\n",
    "                doc[token.i + 1].is_sent_start = True\n",
    "        return doc\n",
    "    return custom_boundaries"
   ]
  },
  {
   "cell_type": "code",
   "execution_count": 4,
   "metadata": {},
   "outputs": [
    {
     "name": "stdout",
     "output_type": "stream",
     "text": [
      "['tok2vec', 'tagger', 'parser', 'attribute_ruler', 'lemmatizer', 'ner']\n"
     ]
    }
   ],
   "source": [
    "# nlp.add_pipe(\"custom_boundaries\", before=\"parser\")\n",
    "print(nlp.pipe_names)"
   ]
  },
  {
   "cell_type": "code",
   "execution_count": 5,
   "metadata": {},
   "outputs": [
    {
     "name": "stdout",
     "output_type": "stream",
     "text": [
      "\"Management is doing things right ; leardership is doing the right things.\"\n",
      "-Peter Drucker\n"
     ]
    }
   ],
   "source": [
    "doc2=nlp(u'\"Management is doing things right ; leardership is doing the right things.\" -Peter Drucker')\n",
    "for sent in doc2.sents:\n",
    "    print(sent)"
   ]
  },
  {
   "cell_type": "markdown",
   "metadata": {},
   "source": [
    "Changing the rules\n"
   ]
  },
  {
   "cell_type": "code",
   "execution_count": 8,
   "metadata": {},
   "outputs": [
    {
     "name": "stdout",
     "output_type": "stream",
     "text": [
      "['This', 'is', 'a', 'sentence', '.']\n",
      "['This', 'is', 'another', '.', '\\n\\n']\n",
      "['This', 'is', 'a', '\\n', 'third', 'sentence', '.']\n"
     ]
    }
   ],
   "source": [
    "mystring = u\"This is a sentence. This is another.\\n\\nThis is a \\nthird sentence.\"\n",
    "doc=nlp(mystring)\n",
    "for sent in doc.sents:\n",
    "    print([token.text for token in sent])"
   ]
  },
  {
   "cell_type": "code",
   "execution_count": 21,
   "metadata": {},
   "outputs": [
    {
     "ename": "ValueError",
     "evalue": "[E004] Can't set up pipeline component: a factory for 'split_on_newlines' already exists. Existing factory: <function set_custom_boundaries at 0x000001D35066F9C0>. New factory: <function split_on_newlines at 0x000001D350B0E980>",
     "output_type": "error",
     "traceback": [
      "\u001b[1;31m---------------------------------------------------------------------------\u001b[0m",
      "\u001b[1;31mValueError\u001b[0m                                Traceback (most recent call last)",
      "\u001b[1;32md:\\CODING\\AIML\\Natural Language Processing\\Part Of Speech\\sentence_segmentation_part2.ipynb Cell 8\u001b[0m line \u001b[0;36m3\n\u001b[0;32m      <a href='vscode-notebook-cell:/d%3A/CODING/AIML/Natural%20Language%20Processing/Part%20Of%20Speech/sentence_segmentation_part2.ipynb#X10sZmlsZQ%3D%3D?line=0'>1</a>\u001b[0m \u001b[39m# CHANGING THE RULES\u001b[39;00m\n\u001b[0;32m      <a href='vscode-notebook-cell:/d%3A/CODING/AIML/Natural%20Language%20Processing/Part%20Of%20Speech/sentence_segmentation_part2.ipynb#X10sZmlsZQ%3D%3D?line=1'>2</a>\u001b[0m \u001b[39m# from spacy.pipeline import SentenceSegmenter\u001b[39;00m\n\u001b[1;32m----> <a href='vscode-notebook-cell:/d%3A/CODING/AIML/Natural%20Language%20Processing/Part%20Of%20Speech/sentence_segmentation_part2.ipynb#X10sZmlsZQ%3D%3D?line=2'>3</a>\u001b[0m \u001b[39m@Language\u001b[39;49m\u001b[39m.\u001b[39;49mfactory(\u001b[39m\"\u001b[39;49m\u001b[39msplit_on_newlines\u001b[39;49m\u001b[39m\"\u001b[39;49m)\n\u001b[0;32m      <a href='vscode-notebook-cell:/d%3A/CODING/AIML/Natural%20Language%20Processing/Part%20Of%20Speech/sentence_segmentation_part2.ipynb#X10sZmlsZQ%3D%3D?line=3'>4</a>\u001b[0m \u001b[39mdef\u001b[39;49;00m \u001b[39msplit_on_newlines\u001b[39;49m(doc):\n\u001b[0;32m      <a href='vscode-notebook-cell:/d%3A/CODING/AIML/Natural%20Language%20Processing/Part%20Of%20Speech/sentence_segmentation_part2.ipynb#X10sZmlsZQ%3D%3D?line=4'>5</a>\u001b[0m     start \u001b[39m=\u001b[39;49m \u001b[39m0\u001b[39;49m\n\u001b[0;32m      <a href='vscode-notebook-cell:/d%3A/CODING/AIML/Natural%20Language%20Processing/Part%20Of%20Speech/sentence_segmentation_part2.ipynb#X10sZmlsZQ%3D%3D?line=5'>6</a>\u001b[0m     seen_newline \u001b[39m=\u001b[39;49m \u001b[39mFalse\u001b[39;49;00m\n",
      "File \u001b[1;32mc:\\Users\\nandi.LAPTOP-6NVS0PRF\\AppData\\Local\\Programs\\Python\\Python311\\Lib\\site-packages\\spacy\\language.py:511\u001b[0m, in \u001b[0;36madd_factory\u001b[1;34m(factory_func)\u001b[0m\n\u001b[0;32m    506\u001b[0m def add_factory(factory_func: Callable) -> Callable:\n\u001b[0;32m    507\u001b[0m     internal_name = cls.get_factory_name(name)\n\u001b[0;32m    508\u001b[0m     if internal_name in registry.factories:\n\u001b[0;32m    509\u001b[0m         # We only check for the internal name here – it's okay if it's a\n\u001b[0;32m    510\u001b[0m         # subclass and the base class has a factory of the same name. We\n\u001b[1;32m--> 511\u001b[0m         # also only raise if the function is different to prevent raising\n\u001b[0;32m    512\u001b[0m         # if module is reloaded.\n\u001b[0;32m    513\u001b[0m         existing_func = registry.factories.get(internal_name)\n\u001b[0;32m    514\u001b[0m         if not util.is_same_func(factory_func, existing_func):\n",
      "\u001b[1;31mValueError\u001b[0m: [E004] Can't set up pipeline component: a factory for 'split_on_newlines' already exists. Existing factory: <function set_custom_boundaries at 0x000001D35066F9C0>. New factory: <function split_on_newlines at 0x000001D350B0E980>"
     ]
    }
   ],
   "source": [
    "# CHANGING THE RULES\n",
    "# from spacy.pipeline import SentenceSegmenter\n",
    "@Language.factory(\"split_on_newlines\")\n",
    "def split_on_newlines(doc):\n",
    "    start = 0\n",
    "    seen_newline = False\n",
    "    for word in doc:\n",
    "        if seen_newline:\n",
    "            yield doc[start:word.i]\n",
    "            start = word.i\n",
    "            seen_newline = False\n",
    "        elif word.text.startswith('\\n'): # handles multiple occurrences\n",
    "            seen_newline = True\n",
    "    yield doc[start:]      # handles the last group of tokens\n",
    "\n",
    "\n",
    "from spacy.language import Language\n",
    "\n",
    "def custom_sentence_segmenter(doc):\n",
    "    for sent in split_on_newlines(doc):\n",
    "        doc[sent.start:sent.end].is_parsed = False  # Set is_parsed to False for each split sentence\n",
    "    return doc"
   ]
  },
  {
   "cell_type": "code",
   "execution_count": 14,
   "metadata": {},
   "outputs": [
    {
     "ename": "ValueError",
     "evalue": "[E966] `nlp.add_pipe` now takes the string name of the registered component factory, not a callable component. Expected string, but got <function custom_sentence_segmenter at 0x000001D34EE8FA60> (name: 'None').\n\n- If you created your component with `nlp.create_pipe('name')`: remove nlp.create_pipe and call `nlp.add_pipe('name')` instead.\n\n- If you passed in a component like `TextCategorizer()`: call `nlp.add_pipe` with the string name instead, e.g. `nlp.add_pipe('textcat')`.\n\n- If you're using a custom component: Add the decorator `@Language.component` (for function components) or `@Language.factory` (for class components / factories) to your custom component and assign it a name, e.g. `@Language.component('your_name')`. You can then run `nlp.add_pipe('your_name')` to add it to the pipeline.",
     "output_type": "error",
     "traceback": [
      "\u001b[1;31m---------------------------------------------------------------------------\u001b[0m",
      "\u001b[1;31mValueError\u001b[0m                                Traceback (most recent call last)",
      "\u001b[1;32md:\\CODING\\AIML\\Natural Language Processing\\Part Of Speech\\sentence_segmentation_part2.ipynb Cell 9\u001b[0m line \u001b[0;36m1\n\u001b[1;32m----> <a href='vscode-notebook-cell:/d%3A/CODING/AIML/Natural%20Language%20Processing/Part%20Of%20Speech/sentence_segmentation_part2.ipynb#X11sZmlsZQ%3D%3D?line=0'>1</a>\u001b[0m nlp\u001b[39m.\u001b[39;49madd_pipe(custom_sentence_segmenter, before\u001b[39m=\u001b[39;49m\u001b[39m\"\u001b[39;49m\u001b[39mparser\u001b[39;49m\u001b[39m\"\u001b[39;49m)\n",
      "File \u001b[1;32mc:\\Users\\nandi.LAPTOP-6NVS0PRF\\AppData\\Local\\Programs\\Python\\Python311\\Lib\\site-packages\\spacy\\language.py:800\u001b[0m, in \u001b[0;36madd_pipe\u001b[1;34m(self, factory_name, name, before, after, first, last, source, config, raw_config, validate)\u001b[0m\n\u001b[0;32m    764\u001b[0m \u001b[39mdef\u001b[39;00m \u001b[39madd_pipe\u001b[39m(\n\u001b[0;32m    765\u001b[0m     \u001b[39mself\u001b[39m,\n\u001b[0;32m    766\u001b[0m     factory_name: \u001b[39mstr\u001b[39m,\n\u001b[1;32m   (...)\u001b[0m\n\u001b[0;32m    776\u001b[0m     validate: \u001b[39mbool\u001b[39m \u001b[39m=\u001b[39m \u001b[39mTrue\u001b[39;00m,\n\u001b[0;32m    777\u001b[0m ) \u001b[39m-\u001b[39m\u001b[39m>\u001b[39m PipeCallable:\n\u001b[0;32m    778\u001b[0m \u001b[39m    \u001b[39m\u001b[39m\"\"\"Add a component to the processing pipeline. Valid components are\u001b[39;00m\n\u001b[0;32m    779\u001b[0m \u001b[39m    callables that take a `Doc` object, modify it and return it. Only one\u001b[39;00m\n\u001b[0;32m    780\u001b[0m \u001b[39m    of before/after/first/last can be set. Default behaviour is \"last\".\u001b[39;00m\n\u001b[0;32m    781\u001b[0m \n\u001b[0;32m    782\u001b[0m \u001b[39m    factory_name (str): Name of the component factory.\u001b[39;00m\n\u001b[0;32m    783\u001b[0m \u001b[39m    name (str): Name of pipeline component. Overwrites existing\u001b[39;00m\n\u001b[0;32m    784\u001b[0m \u001b[39m        component.name attribute if available. If no name is set and\u001b[39;00m\n\u001b[0;32m    785\u001b[0m \u001b[39m        the component exposes no name attribute, component.__name__ is\u001b[39;00m\n\u001b[0;32m    786\u001b[0m \u001b[39m        used. An error is raised if a name already exists in the pipeline.\u001b[39;00m\n\u001b[0;32m    787\u001b[0m \u001b[39m    before (Union[str, int]): Name or index of the component to insert new\u001b[39;00m\n\u001b[0;32m    788\u001b[0m \u001b[39m        component directly before.\u001b[39;00m\n\u001b[0;32m    789\u001b[0m \u001b[39m    after (Union[str, int]): Name or index of the component to insert new\u001b[39;00m\n\u001b[0;32m    790\u001b[0m \u001b[39m        component directly after.\u001b[39;00m\n\u001b[0;32m    791\u001b[0m \u001b[39m    first (bool): If True, insert component first in the pipeline.\u001b[39;00m\n\u001b[0;32m    792\u001b[0m \u001b[39m    last (bool): If True, insert component last in the pipeline.\u001b[39;00m\n\u001b[0;32m    793\u001b[0m \u001b[39m    source (Language): Optional loaded nlp object to copy the pipeline\u001b[39;00m\n\u001b[0;32m    794\u001b[0m \u001b[39m        component from.\u001b[39;00m\n\u001b[0;32m    795\u001b[0m \u001b[39m    config (Dict[str, Any]): Config parameters to use for this component.\u001b[39;00m\n\u001b[0;32m    796\u001b[0m \u001b[39m        Will be merged with default config, if available.\u001b[39;00m\n\u001b[0;32m    797\u001b[0m \u001b[39m    raw_config (Optional[Config]): Internals: the non-interpolated config.\u001b[39;00m\n\u001b[0;32m    798\u001b[0m \u001b[39m    validate (bool): Whether to validate the component config against the\u001b[39;00m\n\u001b[0;32m    799\u001b[0m \u001b[39m        arguments and types expected by the factory.\u001b[39;00m\n\u001b[1;32m--> 800\u001b[0m \u001b[39m    RETURNS (Callable[[Doc], Doc]): The pipeline component.\u001b[39;00m\n\u001b[0;32m    801\u001b[0m \n\u001b[0;32m    802\u001b[0m \u001b[39m    DOCS: https://spacy.io/api/language#add_pipe\u001b[39;00m\n\u001b[0;32m    803\u001b[0m \u001b[39m    \"\"\"\u001b[39;00m\n\u001b[0;32m    804\u001b[0m     \u001b[39mif\u001b[39;00m \u001b[39mnot\u001b[39;00m \u001b[39misinstance\u001b[39m(factory_name, \u001b[39mstr\u001b[39m):\n\u001b[0;32m    805\u001b[0m         bad_val \u001b[39m=\u001b[39m \u001b[39mrepr\u001b[39m(factory_name)\n",
      "\u001b[1;31mValueError\u001b[0m: [E966] `nlp.add_pipe` now takes the string name of the registered component factory, not a callable component. Expected string, but got <function custom_sentence_segmenter at 0x000001D34EE8FA60> (name: 'None').\n\n- If you created your component with `nlp.create_pipe('name')`: remove nlp.create_pipe and call `nlp.add_pipe('name')` instead.\n\n- If you passed in a component like `TextCategorizer()`: call `nlp.add_pipe` with the string name instead, e.g. `nlp.add_pipe('textcat')`.\n\n- If you're using a custom component: Add the decorator `@Language.component` (for function components) or `@Language.factory` (for class components / factories) to your custom component and assign it a name, e.g. `@Language.component('your_name')`. You can then run `nlp.add_pipe('your_name')` to add it to the pipeline."
     ]
    }
   ],
   "source": [
    "nlp.add_pipe(custom_sentence_segmenter, before=\"parser\")\n"
   ]
  }
 ],
 "metadata": {
  "kernelspec": {
   "display_name": "Python 3",
   "language": "python",
   "name": "python3"
  },
  "language_info": {
   "codemirror_mode": {
    "name": "ipython",
    "version": 3
   },
   "file_extension": ".py",
   "mimetype": "text/x-python",
   "name": "python",
   "nbconvert_exporter": "python",
   "pygments_lexer": "ipython3",
   "version": "3.11.4"
  }
 },
 "nbformat": 4,
 "nbformat_minor": 2
}
