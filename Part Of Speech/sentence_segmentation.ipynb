{
 "cells": [
  {
   "cell_type": "code",
   "execution_count": 5,
   "metadata": {},
   "outputs": [],
   "source": [
    "import spacy\n",
    "nlp=spacy.load('en_core_web_sm')\n"
   ]
  },
  {
   "cell_type": "code",
   "execution_count": 42,
   "metadata": {},
   "outputs": [
    {
     "name": "stdout",
     "output_type": "stream",
     "text": [
      "This is the first sentence.\n",
      "This is the second sentence.\n"
     ]
    }
   ],
   "source": [
    "doc=nlp(u\"This is the first sentence. This is the second sentence.\")\n",
    "for sent in doc.sents:\n",
    "    print(sent)"
   ]
  },
  {
   "cell_type": "code",
   "execution_count": 43,
   "metadata": {},
   "outputs": [
    {
     "name": "stdout",
     "output_type": "stream",
     "text": [
      "\"Management is doing things right,leardership is doing the right things.\"\n",
      "-Peter Drucker\n"
     ]
    }
   ],
   "source": [
    "doc=nlp(u'\"Management is doing things right,leardership is doing the right things.\" -Peter Drucker')\n",
    "for sent in doc.sents:\n",
    "    print(sent)"
   ]
  },
  {
   "cell_type": "markdown",
   "metadata": {},
   "source": [
    "Making a segmentation Rule"
   ]
  },
  {
   "cell_type": "code",
   "execution_count": 2,
   "metadata": {},
   "outputs": [
    {
     "ename": "NameError",
     "evalue": "name 'nlp' is not defined",
     "output_type": "error",
     "traceback": [
      "\u001b[1;31m---------------------------------------------------------------------------\u001b[0m",
      "\u001b[1;31mNameError\u001b[0m                                 Traceback (most recent call last)",
      "\u001b[1;32md:\\CODING\\AIML\\Natural Language Processing\\Part Of Speech\\sentence_segmentation.ipynb Cell 5\u001b[0m line \u001b[0;36m7\n\u001b[0;32m      <a href='vscode-notebook-cell:/d%3A/CODING/AIML/Natural%20Language%20Processing/Part%20Of%20Speech/sentence_segmentation.ipynb#W4sZmlsZQ%3D%3D?line=4'>5</a>\u001b[0m            doc[token\u001b[39m.\u001b[39mi\u001b[39m+\u001b[39m\u001b[39m1\u001b[39m]\u001b[39m.\u001b[39mis_sent_start\u001b[39m=\u001b[39m\u001b[39mTrue\u001b[39;00m\n\u001b[0;32m      <a href='vscode-notebook-cell:/d%3A/CODING/AIML/Natural%20Language%20Processing/Part%20Of%20Speech/sentence_segmentation.ipynb#W4sZmlsZQ%3D%3D?line=5'>6</a>\u001b[0m     \u001b[39mreturn\u001b[39;00m doc\n\u001b[1;32m----> <a href='vscode-notebook-cell:/d%3A/CODING/AIML/Natural%20Language%20Processing/Part%20Of%20Speech/sentence_segmentation.ipynb#W4sZmlsZQ%3D%3D?line=6'>7</a>\u001b[0m nlp\u001b[39m.\u001b[39madd_factory(\u001b[39m\"\u001b[39m\u001b[39mset_custom_boundaries\u001b[39m\u001b[39m\"\u001b[39m, set_custom_boundaries)\n\u001b[0;32m      <a href='vscode-notebook-cell:/d%3A/CODING/AIML/Natural%20Language%20Processing/Part%20Of%20Speech/sentence_segmentation.ipynb#W4sZmlsZQ%3D%3D?line=8'>9</a>\u001b[0m \u001b[39m# set_custom_boundaries(doc)\u001b[39;00m\n",
      "\u001b[1;31mNameError\u001b[0m: name 'nlp' is not defined"
     ]
    }
   ],
   "source": [
    "# @spacy.Language.factory(\"custom_boundaries\")\n",
    "def set_custom_boundaries(doc):\n",
    "    for token in doc[:-1]:\n",
    "       if(token.text==';'):\n",
    "           doc[token.i+1].is_sent_start=True\n",
    "    return doc\n",
    "nlp.add_factory(\"set_custom_boundaries\", set_custom_boundaries)\n",
    "\n",
    "# set_custom_boundaries(doc)"
   ]
  },
  {
   "cell_type": "code",
   "execution_count": 47,
   "metadata": {},
   "outputs": [],
   "source": [
    "\n",
    "# nlp.add_pipe(\"set_custom_boundaries\",before='parser')\n",
    "# print(nlp.pipeline)\n",
    "\n"
   ]
  }
 ],
 "metadata": {
  "kernelspec": {
   "display_name": "Python 3",
   "language": "python",
   "name": "python3"
  },
  "language_info": {
   "codemirror_mode": {
    "name": "ipython",
    "version": 3
   },
   "file_extension": ".py",
   "mimetype": "text/x-python",
   "name": "python",
   "nbconvert_exporter": "python",
   "pygments_lexer": "ipython3",
   "version": "3.11.4"
  }
 },
 "nbformat": 4,
 "nbformat_minor": 2
}
