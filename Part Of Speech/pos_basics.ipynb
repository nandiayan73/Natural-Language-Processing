{
 "cells": [
  {
   "cell_type": "code",
   "execution_count": 1,
   "metadata": {},
   "outputs": [],
   "source": [
    "import spacy\n",
    "nlp=spacy.load('en_core_web_sm')\n",
    "\n",
    "# Import the displacy library:\n",
    "from spacy import displacy"
   ]
  },
  {
   "cell_type": "code",
   "execution_count": 2,
   "metadata": {},
   "outputs": [],
   "source": [
    "doc=nlp(u\"The quick brown fox ran over the lazy dog\")"
   ]
  },
  {
   "cell_type": "code",
   "execution_count": 21,
   "metadata": {},
   "outputs": [
    {
     "name": "stdout",
     "output_type": "stream",
     "text": [
      "The: DET determiner\n",
      "quick: ADJ adjective (English), other noun-modifier (Chinese)\n",
      "brown: ADJ adjective (English), other noun-modifier (Chinese)\n",
      "fox: NOUN noun, singular or mass\n",
      "ran: VERB verb, past tense\n",
      "over: ADP conjunction, subordinating or preposition\n",
      "the: DET determiner\n",
      "lazy: ADJ adjective (English), other noun-modifier (Chinese)\n",
      "dog: NOUN noun, singular or mass\n"
     ]
    }
   ],
   "source": [
    "for text in doc:\n",
    "    print(f\"{text}: {text.pos_} {spacy.explain(text.tag_)}\")"
   ]
  },
  {
   "cell_type": "code",
   "execution_count": 4,
   "metadata": {},
   "outputs": [],
   "source": [
    "# displacy.render(doc, style='dep', jupyter=True, options={'distance': 110}) "
   ]
  },
  {
   "cell_type": "code",
   "execution_count": 23,
   "metadata": {},
   "outputs": [
    {
     "name": "stdout",
     "output_type": "stream",
     "text": [
      "my: PRON pronoun, possessive\n",
      "friend: NOUN noun, singular or mass\n",
      "is: AUX verb, 3rd person singular present\n",
      "gayest: ADJ adjective, superlative\n"
     ]
    }
   ],
   "source": [
    "word=nlp(u\"my friend is gayest\")\n",
    "for token in word:\n",
    "    print(f\"{token.text}: {token.pos_} {spacy.explain(token.tag_)}\")"
   ]
  },
  {
   "cell_type": "code",
   "execution_count": null,
   "metadata": {},
   "outputs": [],
   "source": []
  }
 ],
 "metadata": {
  "kernelspec": {
   "display_name": "Python 3",
   "language": "python",
   "name": "python3"
  },
  "language_info": {
   "codemirror_mode": {
    "name": "ipython",
    "version": 3
   },
   "file_extension": ".py",
   "mimetype": "text/x-python",
   "name": "python",
   "nbconvert_exporter": "python",
   "pygments_lexer": "ipython3",
   "version": "3.11.4"
  },
  "orig_nbformat": 4
 },
 "nbformat": 4,
 "nbformat_minor": 2
}
