{
 "cells": [
  {
   "cell_type": "code",
   "execution_count": 1,
   "metadata": {},
   "outputs": [
    {
     "name": "stderr",
     "output_type": "stream",
     "text": [
      "c:\\Users\\nandi.LAPTOP-6NVS0PRF\\AppData\\Local\\Programs\\Python\\Python311\\Lib\\site-packages\\spacy\\util.py:910: UserWarning: [W095] Model 'en_core_web_sm' (3.6.0) was trained with spaCy v3.6.0 and may not be 100% compatible with the current version (3.7.1). If you see errors or degraded performance, download a newer compatible model or retrain your custom model with the current spaCy version. For more details and available updates, run: python -m spacy validate\n",
      "  warnings.warn(warn_msg)\n"
     ]
    },
    {
     "name": "stdout",
     "output_type": "stream",
     "text": [
      "[]\n",
      "ORG\n"
     ]
    }
   ],
   "source": [
    "import spacy\n",
    "nlp = spacy.load(\"en_core_web_sm\")\n",
    "doc=nlp(u\"Chennai is a good city!\")\n",
    "states=[ent for ent in doc.ents if ent.label=='GPE']\n",
    "print(states)\n",
    "for ent in doc.ents:\n",
    "    print(ent.label_)\n"
   ]
  },
  {
   "cell_type": "code",
   "execution_count": 2,
   "metadata": {},
   "outputs": [
    {
     "name": "stdout",
     "output_type": "stream",
     "text": [
      "Chennai\n"
     ]
    }
   ],
   "source": [
    "from spacy.matcher import PhraseMatcher\n",
    "matcher=PhraseMatcher(nlp.vocab)\n",
    "phrase_list=['Chennai','chennai','mumbai','Kolkata','kolkata','Patna']\n",
    "phrase_patterns=[nlp(text) for text in phrase_list]\n",
    "matcher.add('states',phrase_patterns)\n",
    "matches =matcher(doc)\n",
    "for match in matches:\n",
    "    print(doc[match[1]:match[2]])\n"
   ]
  },
  {
   "cell_type": "code",
   "execution_count": 11,
   "metadata": {},
   "outputs": [
    {
     "name": "stdout",
     "output_type": "stream",
     "text": [
      "(Chennai,)\n"
     ]
    },
    {
     "ename": "ValueError",
     "evalue": "[E1010] Unable to set entity information for token 0 which is included in more than one span in entities, blocked, missing or outside.",
     "output_type": "error",
     "traceback": [
      "\u001b[1;31m---------------------------------------------------------------------------\u001b[0m",
      "\u001b[1;31mValueError\u001b[0m                                Traceback (most recent call last)",
      "\u001b[1;32md:\\CODING\\AIML\\Natural Language Processing\\projects\\chat-bot-primitive\\test.ipynb Cell 3\u001b[0m line \u001b[0;36m5\n\u001b[0;32m      <a href='vscode-notebook-cell:/d%3A/CODING/AIML/Natural%20Language%20Processing/projects/chat-bot-primitive/test.ipynb#W2sZmlsZQ%3D%3D?line=2'>3</a>\u001b[0m new_ents\u001b[39m=\u001b[39m[Span(doc,match[\u001b[39m1\u001b[39m],match[\u001b[39m2\u001b[39m],label\u001b[39m=\u001b[39mGPE) \u001b[39mfor\u001b[39;00m match \u001b[39min\u001b[39;00m matches]\n\u001b[0;32m      <a href='vscode-notebook-cell:/d%3A/CODING/AIML/Natural%20Language%20Processing/projects/chat-bot-primitive/test.ipynb#W2sZmlsZQ%3D%3D?line=3'>4</a>\u001b[0m \u001b[39mprint\u001b[39m(doc\u001b[39m.\u001b[39ments)\n\u001b[1;32m----> <a href='vscode-notebook-cell:/d%3A/CODING/AIML/Natural%20Language%20Processing/projects/chat-bot-primitive/test.ipynb#W2sZmlsZQ%3D%3D?line=4'>5</a>\u001b[0m doc\u001b[39m.\u001b[39;49ments\u001b[39m=\u001b[39m\u001b[39mlist\u001b[39m(doc\u001b[39m.\u001b[39ments)\u001b[39m+\u001b[39mnew_ents\n",
      "File \u001b[1;32mc:\\Users\\nandi.LAPTOP-6NVS0PRF\\AppData\\Local\\Programs\\Python\\Python311\\Lib\\site-packages\\spacy\\tokens\\doc.pyx:795\u001b[0m, in \u001b[0;36mspacy.tokens.doc.Doc.ents.__set__\u001b[1;34m()\u001b[0m\n",
      "File \u001b[1;32mc:\\Users\\nandi.LAPTOP-6NVS0PRF\\AppData\\Local\\Programs\\Python\\Python311\\Lib\\site-packages\\spacy\\tokens\\doc.pyx:832\u001b[0m, in \u001b[0;36mspacy.tokens.doc.Doc.set_ents\u001b[1;34m()\u001b[0m\n",
      "\u001b[1;31mValueError\u001b[0m: [E1010] Unable to set entity information for token 0 which is included in more than one span in entities, blocked, missing or outside."
     ]
    }
   ],
   "source": [
    "from spacy.tokens import Span\n",
    "GPE=doc.vocab.strings[u\"GPE\"]\n",
    "new_ents=[Span(doc,match[1],match[2],label=GPE) for match in matches]\n",
    "print(doc.ents)\n",
    "doc.ents=list(doc.ents)+new_ents"
   ]
  }
 ],
 "metadata": {
  "kernelspec": {
   "display_name": "Python 3",
   "language": "python",
   "name": "python3"
  },
  "language_info": {
   "codemirror_mode": {
    "name": "ipython",
    "version": 3
   },
   "file_extension": ".py",
   "mimetype": "text/x-python",
   "name": "python",
   "nbconvert_exporter": "python",
   "pygments_lexer": "ipython3",
   "version": "3.11.4"
  }
 },
 "nbformat": 4,
 "nbformat_minor": 2
}
